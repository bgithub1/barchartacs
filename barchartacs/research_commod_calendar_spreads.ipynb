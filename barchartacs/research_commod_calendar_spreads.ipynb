{
 "cells": [
  {
   "cell_type": "code",
   "execution_count": null,
   "metadata": {},
   "outputs": [],
   "source": [
    "import warnings\n",
    "warnings.filterwarnings(\"ignore\")"
   ]
  },
  {
   "cell_type": "markdown",
   "metadata": {},
   "source": [
    "## Research various commodity spread ideas"
   ]
  },
  {
   "cell_type": "code",
   "execution_count": null,
   "metadata": {},
   "outputs": [],
   "source": [
    "\n",
    "import zipfile\n",
    "import glob\n",
    "import pandas as pd\n",
    "import numpy as np\n",
    "\n",
    "from argparse import ArgumentParser\n",
    "from argparse import RawDescriptionHelpFormatter\n",
    "import sys\n",
    "import os\n",
    "if  not './' in sys.path:\n",
    "    sys.path.append('./')\n",
    "if  not '../' in sys.path:\n",
    "    sys.path.append('../')\n",
    "\n",
    "from barchartacs import build_db\n",
    "from barchartacs import db_info\n",
    "import plotly.graph_objs as go\n",
    "from plotly.offline import  init_notebook_mode, iplot\n",
    "init_notebook_mode(connected=True)\n",
    "import plotly.tools as tls\n",
    "from plotly.graph_objs.layout import Font,Margin\n",
    "from IPython import display\n",
    "\n",
    "import peakutils\n",
    "from peakutils.plot import plot as pplot\n",
    "%matplotlib inline\n",
    "import matplotlib.pyplot as plt\n",
    "from scipy.signal import argrelextrema\n",
    "\n",
    "\n",
    "import datetime\n",
    "import io\n",
    "from tqdm import tqdm,tqdm_notebook\n",
    "from barchartacs import pg_pandas as pg\n",
    "import mibian\n",
    "import py_vollib\n",
    "import importlib\n",
    "from py_vollib import black\n",
    "from py_vollib.black import implied_volatility\n",
    "import ipdb\n",
    "import traceback\n",
    "import pandas_datareader.data as pdr\n",
    "from dashapp import dashapp2 as dashapp\n",
    "import dash_html_components as html\n",
    "import dash_core_components as dcc\n",
    "from itertools import accumulate \n",
    "import pathlib\n",
    "import shutil\n",
    "import urllib.request as request\n",
    "from contextlib import closing\n",
    "import zipfile\n",
    "\n",
    "importlib.reload(dashapp)"
   ]
  },
  {
   "cell_type": "code",
   "execution_count": null,
   "metadata": {},
   "outputs": [],
   "source": [
    "from pandas.tseries.holiday import USFederalHolidayCalendar\n",
    "bday_us = pd.offsets.CustomBusinessDay(calendar=USFederalHolidayCalendar())\n"
   ]
  },
  {
   "cell_type": "markdown",
   "metadata": {},
   "source": [
    "### important global variables"
   ]
  },
  {
   "cell_type": "code",
   "execution_count": null,
   "metadata": {},
   "outputs": [],
   "source": [
    "\n",
    "DEBUG_IT=False\n",
    "opttab = 'sec_schema.options_table'\n",
    "futtab = 'sec_schema.underlying_table'\n"
   ]
  },
  {
   "cell_type": "markdown",
   "metadata": {},
   "source": [
    "#### get all contracts in the options database"
   ]
  },
  {
   "cell_type": "code",
   "execution_count": null,
   "metadata": {
    "scrolled": true
   },
   "outputs": [],
   "source": [
    "pga = db_info.get_db_info()\n",
    "print(f\"futtab max date: {pga.get_sql(f'select max(settle_date) from {futtab}')}\")\n",
    "print(f\"opttab max date: {pga.get_sql(f'select max(settle_date) from {opttab}')}\")\n"
   ]
  },
  {
   "cell_type": "code",
   "execution_count": null,
   "metadata": {},
   "outputs": [],
   "source": [
    "def _create_batch_indices(l,n):\n",
    "    ii = list(range(l))\n",
    "    num = n\n",
    "    # list of length in which we have to split \n",
    "    length_to_split = list(np.repeat(num,len(ii)/num )) + [len(ii)%num]\n",
    "    print(length_to_split)\n",
    "\n",
    "    # Using islice \n",
    "    r = [ii[x - y: x] for x, y in zip( \n",
    "              accumulate(length_to_split), length_to_split)] \n",
    "    return r\n",
    "_create_batch_indices(11,3)"
   ]
  },
  {
   "cell_type": "code",
   "execution_count": null,
   "metadata": {},
   "outputs": [],
   "source": [
    "def str_to_date(d,sep='-'):\n",
    "    try:\n",
    "        dt = datetime.datetime.strptime(str(d)[:10],f'%Y{sep}%m{sep}%d')\n",
    "    except:\n",
    "        return None\n",
    "    return dt\n",
    "\n",
    "def get_local_peaks_and_valleys(df_in,n,col='close'):\n",
    "    '''\n",
    "    :param df - Input DataFrame\n",
    "    :param n - number of data points that surround peak and valley\n",
    "    :param col - the data column to observe\n",
    "    '''\n",
    "    df = df_in.copy()\n",
    "    # Find local peaks\n",
    "    df['valley'] = df.iloc[argrelextrema(df[col].values, np.less_equal, order=n)[0]][col]\n",
    "    df['peak'] = df.iloc[argrelextrema(df[col].values, np.greater_equal, order=n)[0]][col]\n",
    "    return df\n",
    " \n",
    "def get_draw_downs(df_in,close='close'):\n",
    "    df = df_in.copy()\n",
    "    df['peak'] = df[close].expanding(min_periods=1).max()\n",
    "    df['drawdown'] = df.peak-df[close]\n",
    "    return df.drawdown\n",
    "    "
   ]
  },
  {
   "cell_type": "code",
   "execution_count": null,
   "metadata": {},
   "outputs": [],
   "source": [
    "def get_spread(contract_front,contract_back):\n",
    "    sql = f\"\"\"\n",
    "    with \n",
    "    f1 as (\n",
    "        select *\n",
    "        from {futtab} \n",
    "        where symbol in ('{contract_front}','{contract_back}')\n",
    "    )\n",
    "    select * from f1 \n",
    "    \"\"\"\n",
    "    df = pga.get_sql(sql)\n",
    "    df1 = df[df.symbol==contract_front].copy()\n",
    "    df2 = df[df.symbol==contract_back].copy()\n",
    "    df1['front'] = df1.close\n",
    "    df2['back'] = df2.close\n",
    "    df_both = df1[['settle_date','front']].merge(\n",
    "        df2[['settle_date','back']],on='settle_date',how='inner')\n",
    "    df_both['spread'] = df_both.front - df_both.back\n",
    "    return df_both\n",
    "\n",
    "MONTH_CODES = 'FGHJKMNQUVXZ'\n",
    "DICT_MONTH_CODE = {MONTH_CODES[i]:i+1 for i in range(len(MONTH_CODES))}\n",
    "\n",
    "def get_CL_expiry(symbol):\n",
    "    monthcode_yy = symbol[2:]\n",
    "    month = DICT_MONTH_CODE[monthcode_yy[0]]\n",
    "    year = 2000 + int(monthcode_yy[1:])\n",
    "    month = month -1\n",
    "    if month<1:\n",
    "        month = 12\n",
    "        year = year - 1\n",
    "    return datetime.datetime(year,month,25) - 4*bday_us\n",
    "\n",
    "def get_NG_expiry(symbol):\n",
    "    monthcode_yy = symbol[2:]\n",
    "    month = DICT_MONTH_CODE[monthcode_yy[0]]\n",
    "    year = 2000 + int(monthcode_yy[1:])\n",
    "    return datetime.datetime(year,month,1) - 3*bday_us\n"
   ]
  },
  {
   "cell_type": "code",
   "execution_count": null,
   "metadata": {},
   "outputs": [],
   "source": [
    "get_CL_expiry('CLM20'),get_NG_expiry('NGM20')"
   ]
  },
  {
   "cell_type": "code",
   "execution_count": null,
   "metadata": {},
   "outputs": [],
   "source": [
    "def _commod_list():\n",
    "    sql = f\"\"\"select distinct substring(symbol,1,2) commod from {futtab}\n",
    "    order by substring(symbol,1,2) \"\"\"\n",
    "    df = pga.get_sql(sql)\n",
    "    return df"
   ]
  },
  {
   "cell_type": "code",
   "execution_count": null,
   "metadata": {},
   "outputs": [],
   "source": [
    "df_commod = _commod_list()"
   ]
  },
  {
   "cell_type": "code",
   "execution_count": null,
   "metadata": {},
   "outputs": [],
   "source": []
  },
  {
   "cell_type": "code",
   "execution_count": null,
   "metadata": {},
   "outputs": [],
   "source": [
    "def _commod_month_list():\n",
    "    sql = f\"\"\"select distinct symbol from {futtab}\"\"\"\n",
    "    df = pga.get_sql(sql)\n",
    "    df['commod'] = df.symbol.str[0:2]\n",
    "    df['year'] = df.symbol.str[-2:].astype(int)\n",
    "    df['mc'] = df.symbol.str[-3]\n",
    "    df = df[['commod','year','mc']].sort_values(['commod','year','mc']).drop_duplicates()\n",
    "    df.index = list(range(len(df)))\n",
    "    df['sym'] = df.commod+df.year.astype(str)+df.mc\n",
    "    return df\n",
    "\n",
    "df_commod_month = _commod_month_list()\n"
   ]
  },
  {
   "cell_type": "markdown",
   "metadata": {},
   "source": [
    "## Example of showing dashapp.plotly_plot with reverse order descending x axis\n",
    "The xaxis values must be numbers, and should be consecutive"
   ]
  },
  {
   "cell_type": "code",
   "execution_count": null,
   "metadata": {},
   "outputs": [],
   "source": [
    "# syms = ['SIK20','SIZ99']\n",
    "# syms = ['ZCN19','ZCZ19']\n",
    "syms = ['NGF15','NGG15']\n",
    "sym = ','.join([f\"'{v}'\" for v in syms])\n",
    "df_crude = pga.get_sql(f\"select symbol,settle_date, close from {futtab} where symbol in ({sym})\")\n",
    "df_crude['settle_dt'] = [dashapp.str_to_date(str(d),sep='') for d in df_crude.settle_date.values]\n",
    "max_date = df_crude.settle_dt.max()\n",
    "df_crude['dte'] = (max_date-df_crude.settle_dt).dt.days\n",
    "df_plot = df_crude[df_crude.symbol==syms[0]].iloc[-100:]\n",
    "df_plot[syms[0]] = df_plot.close\n",
    "for s in syms[1:]:\n",
    "    values = df_crude[df_crude.symbol==s].iloc[-100:].close.values\n",
    "    if 'Z99' in s:\n",
    "        values = values/10\n",
    "    df_plot[s] = values\n",
    "f1 = dashapp.plotly_plot(\n",
    "    df_in=df_plot[['dte']+syms],x_column='dte',y_left_label='Closing Price',\n",
    "    plot_title=f'{sym} Price vs Days To Expiration'\n",
    ")\n",
    "f1.update_layout(xaxis={'type':'-','autorange':'reversed','title':'Days To Expiry'})\n",
    "f2 = dashapp.plotly_plot(\n",
    "    df_in=df_plot[['settle_date']+syms],x_column='settle_date',y_left_label='Closing Price',\n",
    "    plot_title=f'{sym} Price vs Settle Date'\n",
    ")\n",
    "iplot(f1)\n",
    "iplot(f2)"
   ]
  },
  {
   "cell_type": "code",
   "execution_count": null,
   "metadata": {},
   "outputs": [],
   "source": []
  },
  {
   "cell_type": "code",
   "execution_count": null,
   "metadata": {},
   "outputs": [],
   "source": [
    "c1 = 'NGF'\n",
    "c2 = 'NGG'\n",
    "# for y in range(11,21):\n",
    "#     df_zcn20_zcz20 = get_spread(f'ZCN{y}',f'ZCZ{y}').iloc[-120:]\n",
    "#     iplot(dashapp.plotly_plot(df_in=df_zcn20_zcz20,x_column='settle_date',\n",
    "#                       yaxis2_cols=['spread'],y_right_label='spread',\n",
    "#                               y_left_label='price',\n",
    "#                              plot_title=f'ZCN{y} ZCZ{y}'))\n",
    "for y in range(11,21):\n",
    "    df_zcn20_zcz20 = get_spread(f'{c1}{y}',f'{c2}{y}').iloc[-120:]\n",
    "    iplot(dashapp.plotly_plot(df_in=df_zcn20_zcz20,x_column='settle_date',\n",
    "                      yaxis2_cols=['spread'],y_right_label='spread',\n",
    "                              y_left_label='price',\n",
    "                             plot_title=f'{c1}{y} {c2}{y}'))    "
   ]
  },
  {
   "cell_type": "code",
   "execution_count": null,
   "metadata": {
    "scrolled": false
   },
   "outputs": [],
   "source": [
    "import importlib\n",
    "importlib.reload(dashapp)\n",
    "df_c = pga.get_sql(f\"select * from {futtab} where symbol='ZCN20'\").iloc[-120:]\n",
    "iplot(dashapp.PlotlyCandles(df_c,date_column='settle_date',title=\"ZCN20\").get_figure())"
   ]
  },
  {
   "cell_type": "markdown",
   "metadata": {},
   "source": [
    "### What has been the range of NGVYY vs NGHYY+1"
   ]
  },
  {
   "cell_type": "code",
   "execution_count": null,
   "metadata": {},
   "outputs": [],
   "source": [
    "# get first date\n",
    "ngd_sql = f\"\"\"\n",
    "select min(settle_date) as mindate,max(settle_date) as maxdate  from {futtab} where symbol = 'NGZ99'\n",
    "\"\"\"\n",
    "df_ng_dates = pga.get_sql(ngd_sql)\n",
    "df_ng_dates"
   ]
  },
  {
   "cell_type": "code",
   "execution_count": null,
   "metadata": {},
   "outputs": [],
   "source": [
    "ngv_sql = f\"\"\"\n",
    "select settle_date,symbol, close as MON_close from {futtab}\n",
    "where substring(symbol,1,3)='NGMON';\n",
    "\"\"\"\n",
    "dfv = pga.get_sql(ngv_sql.replace('MON','V'))\n",
    "dfh = pga.get_sql(ngv_sql.replace('MON','H'))\n",
    "    "
   ]
  },
  {
   "cell_type": "code",
   "execution_count": null,
   "metadata": {},
   "outputs": [],
   "source": []
  },
  {
   "cell_type": "code",
   "execution_count": null,
   "metadata": {},
   "outputs": [],
   "source": [
    "dfgb = dfv[['settle_date','symbol']].groupby('settle_date',as_index=False).min()\n",
    "dfgb2 = dfgb.merge(dfv,on=['settle_date','symbol'],how='left')\n",
    "dfgb2 = dfgb2.rename(columns={'symbol':'V'})\n",
    "dfgb2['H'] = f'NGH' + (dfgb2.V.str.slice(-2,).astype(int)+1).astype(str)\n",
    "dfgb2 = dfgb2.merge(dfh,left_on=['settle_date','H'],right_on=['settle_date','symbol'],how='left')[\n",
    "    ['settle_date','v_close','h_close']\n",
    "]\n",
    "dfgb2['spread'] = dfgb2.h_close - dfgb2.v_close\n",
    "c1 = dfgb2.spread==dfgb2.spread.min()\n",
    "c2 = dfgb2.spread==dfgb2.spread.max()\n",
    "c3 = c1 | c2\n",
    "dfgb2[c3]"
   ]
  },
  {
   "cell_type": "code",
   "execution_count": null,
   "metadata": {},
   "outputs": [],
   "source": [
    "df_vh_2021 = dfgb2[dfgb2.settle_date>20210101][['settle_date','spread']]\n",
    "iplot(dashapp.plotly_plot(\n",
    "    df_vh_2021,x_column='settle_date',plot_title='NGV21 vs NGH22<br>The Most Negative V-H since 2010',\n",
    "    y_left_label='Spread price'\n",
    "))"
   ]
  },
  {
   "cell_type": "code",
   "execution_count": null,
   "metadata": {},
   "outputs": [],
   "source": []
  }
 ],
 "metadata": {
  "kernelspec": {
   "display_name": "Python 3",
   "language": "python",
   "name": "python3"
  },
  "language_info": {
   "codemirror_mode": {
    "name": "ipython",
    "version": 3
   },
   "file_extension": ".py",
   "mimetype": "text/x-python",
   "name": "python",
   "nbconvert_exporter": "python",
   "pygments_lexer": "ipython3",
   "version": "3.6.5"
  }
 },
 "nbformat": 4,
 "nbformat_minor": 2
}
