{
 "cells": [
  {
   "cell_type": "code",
   "execution_count": 26,
   "metadata": {},
   "outputs": [],
   "source": [
    "import warnings\n",
    "warnings.filterwarnings(\"ignore\")\n",
    "\n",
    "\n",
    "# In[2]:\n",
    "\n",
    "\n",
    "import pandas as pd\n",
    "import numpy as np\n",
    "\n",
    "import sys\n",
    "import os\n",
    "\n",
    "if  not os.path.abspath('./') in sys.path:\n",
    "    sys.path.append(os.path.abspath('./'))\n",
    "if  not os.path.abspath('../') in sys.path:\n",
    "    sys.path.append(os.path.abspath('../'))\n",
    "\n",
    "\n",
    "import datetime\n",
    "from dateutil.relativedelta import relativedelta\n",
    "from barchartacs import schedule_it as sch\n",
    "import pandas_datareader.data as pdr\n",
    "import yfinance as yf\n",
    "import traceback\n",
    "import json\n",
    "import requests\n",
    "\n",
    "\n",
    "import pyarrow as pa\n",
    "import redis\n",
    "\n",
    "import time\n",
    "import tqdm\n",
    "\n",
    "import schedule_it#@UnresolvedImport\n",
    "\n"
   ]
  },
  {
   "cell_type": "code",
   "execution_count": 27,
   "metadata": {},
   "outputs": [],
   "source": [
    "redis_port = 6379\n",
    "redis_db = redis.Redis(host = 'localhost',port=6379,db=0)\n"
   ]
  },
  {
   "cell_type": "code",
   "execution_count": 28,
   "metadata": {},
   "outputs": [],
   "source": [
    "def dt_to_yyyymmdd(d):\n",
    "    return int(d.year)*100*100 + int(d.month)*100 + int(d.day)\n",
    "\n",
    "def str_to_yyyymmdd(d,sep='-'):\n",
    "    try:\n",
    "        dt = datetime.datetime.strptime(str(d)[:10],f'%Y{sep}%m{sep}%d')\n",
    "    except:\n",
    "        return None\n",
    "    s = '%04d%02d%02d' %(dt.year,dt.month,dt.day)\n",
    "    return int(s)\n",
    "\n",
    "def str_to_date(d,sep='-'):\n",
    "    try:\n",
    "        dt = datetime.datetime.strptime(str(d)[:10],f'%Y{sep}%m{sep}%d')\n",
    "    except:\n",
    "        return None\n",
    "    return dt\n",
    "\n",
    "\n",
    "def fetch_history(symbol,dt_beg,dt_end):\n",
    "    df = yf.download(symbol, dt_beg, dt_end,threads=False)\n",
    "    # move index to date column, sort and recreate index\n",
    "    df['date'] = df.index\n",
    "    df = df.sort_values('date')\n",
    "    df.index = list(range(len(df)))\n",
    "    # make adj close the close\n",
    "    df = df.drop(['Adj Close'],axis=1)\n",
    "    cols = df.columns.values \n",
    "    cols_dict = {c:c[0].lower() + c[1:] for c in cols}\n",
    "    df = df.rename(columns = cols_dict)\n",
    "    df['settle_date'] = df.date.apply(str_to_yyyymmdd)\n",
    "    df = df.groupby('settle_date',as_index=False).first()\n",
    "    return df\n",
    "\n",
    "def get_port_info_values(syms):\n",
    "    names = syms if type(syms)==list else syms.tolist()\n",
    "    tickers = yf.Tickers(names)\n",
    "    dict_list = []\n",
    "    for n in tqdm.tqdm(names):\n",
    "        d = tickers.tickers[n].get_info()\n",
    "        d['symbol'] = n\n",
    "        dict_list.append(d)\n",
    "    df_info_values = pd.DataFrame(dict_list)\n",
    "    return df_info_values\n",
    "    \n",
    "def update_wf_port_info(syms):\n",
    "    try:\n",
    "#         names = syms if type(syms)==list else syms.tolist()\n",
    "#         tickers = yf.Tickers(names)\n",
    "#         dict_list = []\n",
    "#         for n in tqdm.tqdm(names):\n",
    "#             d = tickers.tickers[n].get_info()\n",
    "#             d['symbol'] = n\n",
    "#             dict_list.append(d)\n",
    "#         df_info_values = pd.DataFrame(dict_list)\n",
    "        df_info_values = get_port_info_values(syms)\n",
    "        info_values_key = 'wf_port_info_csv'\n",
    "        update_redis_df(info_values_key,df_info_values)\n",
    "    except Exception as e:\n",
    "        traceback.print_exc()\n",
    "\n",
    "\n",
    "def update_redis_df(key,df):\n",
    "    context = pa.default_serialization_context()#@UndefinedVariable\n",
    "    redis_db.set(key, context.serialize(df).to_buffer().to_pybytes())\n",
    "\n",
    "\n",
    "def get_fmp_ratios(symbol):\n",
    "    ratios_url = f'https://financialmodelingprep.com/api/v3/quote/{symbol}?apikey=5959d0222350b6d05dbfe64794b6f093'\n",
    "    response = json.loads(requests.get(ratios_url).text)\n",
    "    return response\n",
    "\n",
    "def update_db(beg_sym=None,port_path=None):\n",
    "    syms = None\n",
    "    if port_path is not None:\n",
    "        syms = pd.read_csv(port_path).symbol.values\n",
    "    else:\n",
    "        sp_url = \"https://datahub.io/core/s-and-p-500-companies/r/constituents.csv\"\n",
    "        df_sp_members = pd.read_csv(sp_url)  \n",
    "        df_sp_members = df_sp_members.sort_values('Symbol')\n",
    "        if beg_sym is not None:\n",
    "            df_sp_members = df_sp_members[df_sp_members.Symbol>=beg_sym]\n",
    "            syms = df_sp_members.Symbol.values\n",
    "    syms = np.append(syms,['SPY','QQQ'])\n",
    "    data_end_date = datetime.datetime.now()\n",
    "    data_beg_date = data_end_date - relativedelta(years=5)\n",
    "    pe_values = []\n",
    "    closes = []\n",
    "    with tqdm.tqdm(syms,position=0,leave=True) as pbar:\n",
    "        for sym in pbar:\n",
    "            pbar.set_postfix_str(s=sym)\n",
    "            try:\n",
    "                df_temp = fetch_history(sym, data_beg_date, data_end_date)\n",
    "                update_redis_df(f'{sym}_csv',df_temp)\n",
    "            except Exception as e:\n",
    "                print(f\"ERROR on {sym}: {str(e)}\")\n",
    "        \n",
    "    update_wf_port_info(syms)\n",
    "\n",
    "def schedule_updates(t=8,unit='hour',beg_sym=None,port_path=None,num_runs=None):\n",
    "    logger = schedule_it.init_root_logger(\"logfile.log\", \"INFO\")\n",
    "    counter = num_runs\n",
    "    while True:\n",
    "        logger.info(f\"scheduling update for {unit} {t}\")\n",
    "        sch = schedule_it.ScheduleNext(unit, t,logger = logger)\n",
    "        sch.wait()\n",
    "        logger.info(f\"updating history\")\n",
    "        update_db(beg_sym=beg_sym,port_path=port_path)\n",
    "        if counter is not None:\n",
    "            counter = counter - 1\n",
    "            if counter <=0:\n",
    "                return\n",
    "        logger.info(f\"sleeping until next {t} {unit} before next scheduling\")\n",
    "        time.sleep(5*60)\n"
   ]
  },
  {
   "cell_type": "code",
   "execution_count": 22,
   "metadata": {},
   "outputs": [],
   "source": [
    "data_end_date = datetime.datetime.now()\n",
    "data_beg_date = data_end_date - relativedelta(years=5)\n",
    "\n",
    "# fetch_history()"
   ]
  },
  {
   "cell_type": "code",
   "execution_count": 23,
   "metadata": {},
   "outputs": [],
   "source": [
    "# df2 = fetch_history('FB',data_beg_date, data_end_date)\n",
    "# df2"
   ]
  },
  {
   "cell_type": "code",
   "execution_count": 24,
   "metadata": {},
   "outputs": [],
   "source": [
    "# sys.argv = ['','56','A','../../jupyter_notebooks/wf_port.csv','minute']  "
   ]
  },
  {
   "cell_type": "code",
   "execution_count": 22,
   "metadata": {},
   "outputs": [
    {
     "name": "stderr",
     "output_type": "stream",
     "text": [
      "2022-01-05 17:56:11,652 - root - INFO - scheduling update for minute 56\n",
      "2022-01-05 17:56:11,653 - root - INFO - Not sleeping\n",
      "2022-01-05 17:56:11,655 - root - INFO - updating history\n",
      "  0%|          | 0/27 [00:00<?, ?it/s, AAPL]"
     ]
    },
    {
     "name": "stdout",
     "output_type": "stream",
     "text": [
      "[*********************100%***********************]  1 of 1 completed"
     ]
    },
    {
     "name": "stderr",
     "output_type": "stream",
     "text": [
      "  4%|▎         | 1/27 [00:00<00:08,  3.07it/s, ABT] "
     ]
    },
    {
     "name": "stdout",
     "output_type": "stream",
     "text": [
      "\n",
      "[*********************100%***********************]  1 of 1 completed"
     ]
    },
    {
     "name": "stderr",
     "output_type": "stream",
     "text": [
      "  7%|▋         | 2/27 [00:00<00:07,  3.20it/s, ADBE]"
     ]
    },
    {
     "name": "stdout",
     "output_type": "stream",
     "text": [
      "\n",
      "[*********************100%***********************]  1 of 1 completed"
     ]
    },
    {
     "name": "stderr",
     "output_type": "stream",
     "text": [
      " 11%|█         | 3/27 [00:00<00:07,  3.12it/s, ADP] "
     ]
    },
    {
     "name": "stdout",
     "output_type": "stream",
     "text": [
      "\n",
      "[*********************100%***********************]  1 of 1 completed"
     ]
    },
    {
     "name": "stderr",
     "output_type": "stream",
     "text": [
      " 15%|█▍        | 4/27 [00:01<00:07,  3.17it/s, AMZN]"
     ]
    },
    {
     "name": "stdout",
     "output_type": "stream",
     "text": [
      "\n",
      "[*********************100%***********************]  1 of 1 completed"
     ]
    },
    {
     "name": "stderr",
     "output_type": "stream",
     "text": [
      " 19%|█▊        | 5/27 [00:01<00:06,  3.35it/s, AVGO]"
     ]
    },
    {
     "name": "stdout",
     "output_type": "stream",
     "text": [
      "\n",
      "[*********************100%***********************]  1 of 1 completed"
     ]
    },
    {
     "name": "stderr",
     "output_type": "stream",
     "text": [
      " 22%|██▏       | 6/27 [00:01<00:05,  3.53it/s, CRM] "
     ]
    },
    {
     "name": "stdout",
     "output_type": "stream",
     "text": [
      "\n",
      "[*********************100%***********************]  1 of 1 completed"
     ]
    },
    {
     "name": "stderr",
     "output_type": "stream",
     "text": [
      " 26%|██▌       | 7/27 [00:02<00:05,  3.61it/s, CSX]"
     ]
    },
    {
     "name": "stdout",
     "output_type": "stream",
     "text": [
      "\n",
      "[*********************100%***********************]  1 of 1 completed"
     ]
    },
    {
     "name": "stderr",
     "output_type": "stream",
     "text": [
      " 30%|██▉       | 8/27 [00:02<00:05,  3.48it/s, EW] "
     ]
    },
    {
     "name": "stdout",
     "output_type": "stream",
     "text": [
      "\n",
      "[*********************100%***********************]  1 of 1 completed"
     ]
    },
    {
     "name": "stderr",
     "output_type": "stream",
     "text": [
      " 33%|███▎      | 9/27 [00:02<00:04,  3.64it/s, EXR]"
     ]
    },
    {
     "name": "stdout",
     "output_type": "stream",
     "text": [
      "\n",
      "[*********************100%***********************]  1 of 1 completed"
     ]
    },
    {
     "name": "stderr",
     "output_type": "stream",
     "text": [
      " 37%|███▋      | 10/27 [00:02<00:04,  3.62it/s, FB] "
     ]
    },
    {
     "name": "stdout",
     "output_type": "stream",
     "text": [
      "\n",
      "[*********************100%***********************]  1 of 1 completed"
     ]
    },
    {
     "name": "stderr",
     "output_type": "stream",
     "text": [
      " 41%|████      | 11/27 [00:03<00:04,  3.65it/s, GOOGL]"
     ]
    },
    {
     "name": "stdout",
     "output_type": "stream",
     "text": [
      "\n",
      "[*********************100%***********************]  1 of 1 completed"
     ]
    },
    {
     "name": "stderr",
     "output_type": "stream",
     "text": [
      " 44%|████▍     | 12/27 [00:03<00:03,  3.76it/s, HD]   "
     ]
    },
    {
     "name": "stdout",
     "output_type": "stream",
     "text": [
      "\n",
      "[*********************100%***********************]  1 of 1 completed"
     ]
    },
    {
     "name": "stderr",
     "output_type": "stream",
     "text": [
      " 48%|████▊     | 13/27 [00:03<00:03,  3.51it/s, IDXX]"
     ]
    },
    {
     "name": "stdout",
     "output_type": "stream",
     "text": [
      "\n",
      "[*********************100%***********************]  1 of 1 completed"
     ]
    },
    {
     "name": "stderr",
     "output_type": "stream",
     "text": [
      " 52%|█████▏    | 14/27 [00:04<00:03,  3.55it/s, JPM] "
     ]
    },
    {
     "name": "stdout",
     "output_type": "stream",
     "text": [
      "\n",
      "[*********************100%***********************]  1 of 1 completed"
     ]
    },
    {
     "name": "stderr",
     "output_type": "stream",
     "text": [
      " 56%|█████▌    | 15/27 [00:04<00:03,  3.35it/s, KO] "
     ]
    },
    {
     "name": "stdout",
     "output_type": "stream",
     "text": [
      "\n",
      "[*********************100%***********************]  1 of 1 completed"
     ]
    },
    {
     "name": "stderr",
     "output_type": "stream",
     "text": [
      " 59%|█████▉    | 16/27 [00:04<00:03,  3.20it/s, MS]"
     ]
    },
    {
     "name": "stdout",
     "output_type": "stream",
     "text": [
      "\n",
      "[*********************100%***********************]  1 of 1 completed"
     ]
    },
    {
     "name": "stderr",
     "output_type": "stream",
     "text": [
      " 63%|██████▎   | 17/27 [00:05<00:03,  3.19it/s, MSCI]"
     ]
    },
    {
     "name": "stdout",
     "output_type": "stream",
     "text": [
      "\n",
      "[*********************100%***********************]  1 of 1 completed"
     ]
    },
    {
     "name": "stderr",
     "output_type": "stream",
     "text": [
      " 67%|██████▋   | 18/27 [00:05<00:02,  3.29it/s, MSFT]"
     ]
    },
    {
     "name": "stdout",
     "output_type": "stream",
     "text": [
      "\n",
      "[*********************100%***********************]  1 of 1 completed"
     ]
    },
    {
     "name": "stderr",
     "output_type": "stream",
     "text": [
      " 70%|███████   | 19/27 [00:05<00:02,  3.33it/s, NEE] "
     ]
    },
    {
     "name": "stdout",
     "output_type": "stream",
     "text": [
      "\n",
      "[*********************100%***********************]  1 of 1 completed"
     ]
    },
    {
     "name": "stderr",
     "output_type": "stream",
     "text": [
      " 74%|███████▍  | 20/27 [00:05<00:02,  3.12it/s, ROP]"
     ]
    },
    {
     "name": "stdout",
     "output_type": "stream",
     "text": [
      "\n",
      "[*********************100%***********************]  1 of 1 completed"
     ]
    },
    {
     "name": "stderr",
     "output_type": "stream",
     "text": [
      " 78%|███████▊  | 21/27 [00:06<00:02,  2.35it/s, SHW]"
     ]
    },
    {
     "name": "stdout",
     "output_type": "stream",
     "text": [
      "\n",
      "[*********************100%***********************]  1 of 1 completed"
     ]
    },
    {
     "name": "stderr",
     "output_type": "stream",
     "text": [
      " 81%|████████▏ | 22/27 [00:06<00:01,  2.58it/s, TMO]"
     ]
    },
    {
     "name": "stdout",
     "output_type": "stream",
     "text": [
      "\n",
      "[*********************100%***********************]  1 of 1 completed"
     ]
    },
    {
     "name": "stderr",
     "output_type": "stream",
     "text": [
      " 85%|████████▌ | 23/27 [00:07<00:01,  2.76it/s, TXN]"
     ]
    },
    {
     "name": "stdout",
     "output_type": "stream",
     "text": [
      "\n",
      "[*********************100%***********************]  1 of 1 completed"
     ]
    },
    {
     "name": "stderr",
     "output_type": "stream",
     "text": [
      " 89%|████████▉ | 24/27 [00:07<00:01,  2.85it/s, UNH]"
     ]
    },
    {
     "name": "stdout",
     "output_type": "stream",
     "text": [
      "\n",
      "[*********************100%***********************]  1 of 1 completed"
     ]
    },
    {
     "name": "stderr",
     "output_type": "stream",
     "text": [
      " 93%|█████████▎| 25/27 [00:07<00:00,  2.94it/s, SPY]"
     ]
    },
    {
     "name": "stdout",
     "output_type": "stream",
     "text": [
      "\n",
      "[*********************100%***********************]  1 of 1 completed"
     ]
    },
    {
     "name": "stderr",
     "output_type": "stream",
     "text": [
      " 96%|█████████▋| 26/27 [00:08<00:00,  2.96it/s, QQQ]"
     ]
    },
    {
     "name": "stdout",
     "output_type": "stream",
     "text": [
      "\n",
      "[*********************100%***********************]  1 of 1 completed"
     ]
    },
    {
     "name": "stderr",
     "output_type": "stream",
     "text": [
      "100%|██████████| 27/27 [00:08<00:00,  3.18it/s, QQQ]"
     ]
    },
    {
     "name": "stdout",
     "output_type": "stream",
     "text": [
      "\n"
     ]
    },
    {
     "name": "stderr",
     "output_type": "stream",
     "text": [
      "\n",
      "100%|██████████| 27/27 [02:38<00:00,  5.88s/it]\n",
      "2022-01-05 17:58:58,989 - root - INFO - sleeping until next 56 minute before next scheduling\n"
     ]
    },
    {
     "ename": "KeyboardInterrupt",
     "evalue": "",
     "output_type": "error",
     "traceback": [
      "\u001b[0;31m---------------------------------------------------------------------------\u001b[0m",
      "\u001b[0;31mKeyboardInterrupt\u001b[0m                         Traceback (most recent call last)",
      "\u001b[0;32m<ipython-input-22-b1feddc537ac>\u001b[0m in \u001b[0;36m<module>\u001b[0;34m\u001b[0m\n\u001b[1;32m      4\u001b[0m     \u001b[0mport_path\u001b[0m \u001b[0;34m=\u001b[0m \u001b[0;32mNone\u001b[0m \u001b[0;32mif\u001b[0m \u001b[0mlen\u001b[0m\u001b[0;34m(\u001b[0m\u001b[0msys\u001b[0m\u001b[0;34m.\u001b[0m\u001b[0margv\u001b[0m\u001b[0;34m)\u001b[0m\u001b[0;34m<\u001b[0m\u001b[0;36m4\u001b[0m \u001b[0;32melse\u001b[0m \u001b[0msys\u001b[0m\u001b[0;34m.\u001b[0m\u001b[0margv\u001b[0m\u001b[0;34m[\u001b[0m\u001b[0;36m3\u001b[0m\u001b[0;34m]\u001b[0m\u001b[0;34m\u001b[0m\u001b[0m\n\u001b[1;32m      5\u001b[0m     \u001b[0munit\u001b[0m \u001b[0;34m=\u001b[0m \u001b[0;34m'hour'\u001b[0m \u001b[0;32mif\u001b[0m \u001b[0mlen\u001b[0m\u001b[0;34m(\u001b[0m\u001b[0msys\u001b[0m\u001b[0;34m.\u001b[0m\u001b[0margv\u001b[0m\u001b[0;34m)\u001b[0m\u001b[0;34m<\u001b[0m\u001b[0;36m5\u001b[0m \u001b[0;32melse\u001b[0m \u001b[0msys\u001b[0m\u001b[0;34m.\u001b[0m\u001b[0margv\u001b[0m\u001b[0;34m[\u001b[0m\u001b[0;36m4\u001b[0m\u001b[0;34m]\u001b[0m\u001b[0;34m\u001b[0m\u001b[0m\n\u001b[0;32m----> 6\u001b[0;31m     \u001b[0mschedule_updates\u001b[0m\u001b[0;34m(\u001b[0m\u001b[0mt\u001b[0m\u001b[0;34m=\u001b[0m\u001b[0mt\u001b[0m\u001b[0;34m,\u001b[0m\u001b[0munit\u001b[0m\u001b[0;34m=\u001b[0m\u001b[0munit\u001b[0m\u001b[0;34m,\u001b[0m\u001b[0mbeg_sym\u001b[0m\u001b[0;34m=\u001b[0m\u001b[0mbs\u001b[0m\u001b[0;34m,\u001b[0m\u001b[0mport_path\u001b[0m\u001b[0;34m=\u001b[0m\u001b[0mport_path\u001b[0m\u001b[0;34m)\u001b[0m\u001b[0;34m\u001b[0m\u001b[0m\n\u001b[0m",
      "\u001b[0;32m<ipython-input-6-b425e05a5085>\u001b[0m in \u001b[0;36mschedule_updates\u001b[0;34m(t, unit, beg_sym, port_path)\u001b[0m\n\u001b[1;32m    106\u001b[0m         \u001b[0mupdate_db\u001b[0m\u001b[0;34m(\u001b[0m\u001b[0mbeg_sym\u001b[0m\u001b[0;34m=\u001b[0m\u001b[0mbeg_sym\u001b[0m\u001b[0;34m,\u001b[0m\u001b[0mport_path\u001b[0m\u001b[0;34m=\u001b[0m\u001b[0mport_path\u001b[0m\u001b[0;34m)\u001b[0m\u001b[0;34m\u001b[0m\u001b[0m\n\u001b[1;32m    107\u001b[0m         \u001b[0mlogger\u001b[0m\u001b[0;34m.\u001b[0m\u001b[0minfo\u001b[0m\u001b[0;34m(\u001b[0m\u001b[0;34mf\"sleeping until next {t} {unit} before next scheduling\"\u001b[0m\u001b[0;34m)\u001b[0m\u001b[0;34m\u001b[0m\u001b[0m\n\u001b[0;32m--> 108\u001b[0;31m         \u001b[0mtime\u001b[0m\u001b[0;34m.\u001b[0m\u001b[0msleep\u001b[0m\u001b[0;34m(\u001b[0m\u001b[0;36m5\u001b[0m\u001b[0;34m*\u001b[0m\u001b[0;36m60\u001b[0m\u001b[0;34m)\u001b[0m\u001b[0;34m\u001b[0m\u001b[0m\n\u001b[0m",
      "\u001b[0;31mKeyboardInterrupt\u001b[0m: "
     ]
    }
   ],
   "source": [
    "if __name__=='__main__':\n",
    "    t = 20 if len(sys.argv)<3 else int(sys.argv[1])\n",
    "    bs = None if len(sys.argv)<3 else sys.argv[2]\n",
    "    port_path = None if len(sys.argv)<4 else sys.argv[3]\n",
    "    unit = 'hour' if len(sys.argv)<5 else sys.argv[4]\n",
    "    num_runs = 100 if len(sys.argv)<6 else int(sys.argv[5])\n",
    "    schedule_updates(t=t,unit=unit,beg_sym=bs,port_path=port_path,num_runs=num_runs)\n"
   ]
  },
  {
   "cell_type": "code",
   "execution_count": 29,
   "metadata": {},
   "outputs": [
    {
     "name": "stdout",
     "output_type": "stream",
     "text": [
      "[NbConvertApp] Converting notebook redis_server_stock_data_update.ipynb to script\n",
      "[NbConvertApp] Writing 5621 bytes to redis_server_stock_data_update.py\n"
     ]
    }
   ],
   "source": [
    "# !jupyter nbconvert --to script redis_server_stock_data_update.ipynb"
   ]
  },
  {
   "cell_type": "code",
   "execution_count": null,
   "metadata": {},
   "outputs": [],
   "source": []
  },
  {
   "cell_type": "code",
   "execution_count": null,
   "metadata": {},
   "outputs": [],
   "source": []
  }
 ],
 "metadata": {
  "kernelspec": {
   "display_name": "Python 3",
   "language": "python",
   "name": "python3"
  },
  "language_info": {
   "codemirror_mode": {
    "name": "ipython",
    "version": 3
   },
   "file_extension": ".py",
   "mimetype": "text/x-python",
   "name": "python",
   "nbconvert_exporter": "python",
   "pygments_lexer": "ipython3",
   "version": "3.6.5"
  }
 },
 "nbformat": 4,
 "nbformat_minor": 4
}
