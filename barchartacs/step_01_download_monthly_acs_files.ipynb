{
 "cells": [
  {
   "cell_type": "markdown",
   "metadata": {},
   "source": [
    "# step_01_download_monthly_acs_files.ipynb\n",
    "\n",
    "## Overview:\n",
    "#### This workbook automates the download of monthly options and futures pricing zip files from Barchart ACS.\n",
    "\n",
    "1. It will use Selenium to login to the site: \n",
    "```\n",
    "ACS_HOME_PAGE = 'http://acs.barchart.com/mri/mripag.htm' \n",
    "ACS_LOGIN_INFO = './temp_folder/acs_login.txt'\n",
    "acs_text = open(ACS_LOGIN_INFO,'r').read()\n",
    "ACS_USERNAME = acs_text.split(',')[0]\n",
    "ACS_PASSWORD = acs_text.split(',')[1]\n",
    "```\n",
    "2. It will scrape the urls of the zip files, and then download those zipfiles into a folder which is specified using:\n",
    "```\n",
    "ZIP_FOLDER_PARENT = open('./temp_folder/zip_folder_parent.txt','r').read()\n",
    "```\n",
    "\n",
    "3. You can manually upload one or several months after manuall logging in to Barchartacs at http://acs.barchart.com/mri/mriopt.htm.  Navigate down the page to the table **Monthly Options Zip Files** and then click on a CSV file that you want to download\n",
    "\n",
    "## Usage:\n",
    "\n",
    "1. In **Step 2**, set \n",
    "```\n",
    "ZIP_FOLDER_PARENT\n",
    "BEGIN_YY\n",
    "END_YY\n",
    "```\n",
    "2. Run all cells below **Step 2**\n"
   ]
  },
  {
   "cell_type": "markdown",
   "metadata": {},
   "source": [
    "### Step 1:  Imports"
   ]
  },
  {
   "cell_type": "code",
   "execution_count": 1,
   "metadata": {},
   "outputs": [],
   "source": [
    "import sel_scrape as sc\n",
    "from selenium import webdriver\n",
    "from selenium.webdriver.common.keys import Keys\n",
    "from selenium.webdriver.common.alert import Alert\n",
    "from selenium.webdriver.support.ui import WebDriverWait as wait\n",
    "from selenium.webdriver.support import expected_conditions as EC\n",
    "import requests\n",
    "from requests.auth import HTTPBasicAuth\n",
    "import os\n",
    "import time\n",
    "import traceback\n",
    "from tqdm import tqdm,tqdm_notebook\n",
    "import numpy as np\n",
    "import importlib\n",
    "import re\n",
    "import pathlib\n",
    "HOME_FOLDER = pathlib.Path.home()"
   ]
  },
  {
   "cell_type": "code",
   "execution_count": null,
   "metadata": {},
   "outputs": [],
   "source": [
    "# uncomment the line below if you make changes to the module sel_scrape\n",
    "# importlib.reload(sc)"
   ]
  },
  {
   "cell_type": "markdown",
   "metadata": {},
   "source": [
    "### Step 2: Set import variables to determine years to download, and the download location\n",
    "#### Set the variables \n",
    "```\n",
    "ZIP_FOLDER_PARENT\n",
    "BEGIN_YY\n",
    "END_YY\n",
    "``` \n",
    "These values determine \n",
    "1. The location to which zip files get downloaded;\n",
    "2. The first year and last year of daily options settlements to scrape from the Barchart ACS website.\n"
   ]
  },
  {
   "cell_type": "code",
   "execution_count": null,
   "metadata": {},
   "outputs": [],
   "source": [
    "# ZIP_FOLDER_PARENT = os.path.join(HOME_FOLDER, 'barchart_downloads/barchart2')\n",
    "ZIP_FOLDER_PARENT = ('./temp_folder/zip_files') # os.path.join(HOME_FOLDER, 'barchart_downloads/barchart2')\n",
    "BEGIN_YY = 21\n",
    "END_YY = 21\n",
    "print(f'ZIP_FOLDER_PARENT into which files will be download = {ZIP_FOLDER_PARENT}')\n",
    "RELOAD_CHROMEDRIVER=False"
   ]
  },
  {
   "cell_type": "markdown",
   "metadata": {},
   "source": [
    "### Step 3: Set important constants\n",
    "#### The constants below should be left as is - DO NOT CHANGE."
   ]
  },
  {
   "cell_type": "code",
   "execution_count": null,
   "metadata": {},
   "outputs": [],
   "source": [
    "MMM_LIST = ['jan','feb','mar','apr','may','jun','jul','aug','sep','oct','nov','dec']\n",
    "YY_LIST = list(np.arange(BEGIN_YY,END_YY+1))\n",
    "MMMYY_LIST = [mmm + str(yy) for mmm in MMM_LIST for yy in YY_LIST]\n",
    "MMMYY_LIST"
   ]
  },
  {
   "cell_type": "code",
   "execution_count": null,
   "metadata": {},
   "outputs": [],
   "source": [
    "ACS_HOME_PAGE = 'http://acs.barchart.com/mri/mripag.htm' \n",
    "# ACS_FUTURES_PAGE = 'http://acs.barchart.com/mri/mridta.htm'\n",
    "ACS_FUTURES_PAGE = 'http://acs.barchart.com/mri/mrgfutz.htm'\n",
    "ACS_OPTIONS_PAGE = 'http://acs.barchart.com/mri/mriopt.htm'\n",
    "ACS_LOGIN_INFO = './temp_folder/acs_login.txt'\n",
    "acs_text = open(ACS_LOGIN_INFO,'r').read()\n",
    "ACS_USERNAME = acs_text.split(',')[0]\n",
    "ACS_PASSWORD = acs_text.split(',')[1]"
   ]
  },
  {
   "cell_type": "markdown",
   "metadata": {},
   "source": [
    "### Step 4: Set ```ZIP_FOLDER_PARENT```\n",
    "#### Determine ```ZIP_FOLDER_PARENT```, which represents the folder into which Barchart ACS zip files get downloaded."
   ]
  },
  {
   "cell_type": "code",
   "execution_count": null,
   "metadata": {},
   "outputs": [],
   "source": [
    "if not os.path.exists(ZIP_FOLDER_PARENT):\n",
    "    print(f'making parent folder {ZIP_FOLDER_PARENT}')\n",
    "    os.makedirs(ZIP_FOLDER_PARENT)\n",
    "else:\n",
    "    print(f'parent folder {ZIP_FOLDER_PARENT} already exists')"
   ]
  },
  {
   "cell_type": "code",
   "execution_count": null,
   "metadata": {},
   "outputs": [],
   "source": [
    "MY_HOME = str(pathlib.Path.home())\n",
    "PROFILE_PATH = f'{MY_HOME}/Library/Application Support/Google/Chrome/Default'"
   ]
  },
  {
   "cell_type": "markdown",
   "metadata": {},
   "source": [
    "### Step 5: Instatiate SelScape\n",
    "#### Instantiate an instance of ```sel_scape.SelScrape``` in order to scrape the Barchart ACS website."
   ]
  },
  {
   "cell_type": "code",
   "execution_count": null,
   "metadata": {},
   "outputs": [],
   "source": []
  },
  {
   "cell_type": "code",
   "execution_count": null,
   "metadata": {},
   "outputs": [],
   "source": [
    "# if RELOAD_CHROMEDRIVER:\n",
    "#     sc.download_chromedriver()"
   ]
  },
  {
   "cell_type": "code",
   "execution_count": 3,
   "metadata": {
    "scrolled": true
   },
   "outputs": [],
   "source": [
    "# sela = sc.SelScrape(headless=False)"
   ]
  },
  {
   "cell_type": "code",
   "execution_count": null,
   "metadata": {},
   "outputs": [],
   "source": [
    "# sela = sc.SelScrape(headless=False)\n",
    "# # sela = sc.SelScrape(headless=False,driver_name='chrome')#,profile_path=PROFILE_PATH)\n",
    "# sela.wait_implicitly(2)\n",
    "# sela.goto(ACS_HOME_PAGE)\n",
    "# # time.sleep(10)\n",
    "# wait(sela.driver, 5).until(EC.alert_is_present())\n",
    "# alert = sela.driver.switch_to_alert()\n",
    "# alert.send_keys(f'{ACS_USERNAME}{Keys.TAB}{ACS_PASSWORD}')\n",
    "# time.sleep(3)\n",
    "# alert.accept()\n"
   ]
  },
  {
   "cell_type": "markdown",
   "metadata": {},
   "source": [
    "### Step 6:\n",
    "#### Navigate to Home Page"
   ]
  },
  {
   "cell_type": "code",
   "execution_count": null,
   "metadata": {},
   "outputs": [],
   "source": [
    "# sela.goto(ACS_OPTIONS_PAGE)"
   ]
  },
  {
   "cell_type": "markdown",
   "metadata": {},
   "source": [
    "### Step 7: Obtain Options URLS\n",
    "#### Scrape the urls for options zip files to be downloaded."
   ]
  },
  {
   "cell_type": "code",
   "execution_count": null,
   "metadata": {
    "scrolled": true
   },
   "outputs": [],
   "source": [
    "# monthly_csv_files_xpath = \"//a[contains(@href,'data/opt/opv')]\"\n",
    "# mcsv_elements = sela.findxpath(monthly_csv_files_xpath)['value']\n",
    "# mcsv_hrefs_all = []\n",
    "# for mcsv in mcsv_elements:\n",
    "#     mcsv_hrefs_all.append(mcsv.get_attribute('href'))\n",
    "# mcsv_hrefs_all"
   ]
  },
  {
   "cell_type": "code",
   "execution_count": null,
   "metadata": {
    "scrolled": true
   },
   "outputs": [],
   "source": [
    "# def is_valid_yyymm(h):\n",
    "#     return any([m in h for m in MMMYY_LIST])\n",
    "# mcsv_hrefs = [h for h in mcsv_hrefs_all if is_valid_yyymm(h) ] \n",
    "# mcsv_hrefs"
   ]
  },
  {
   "cell_type": "markdown",
   "metadata": {},
   "source": [
    "### Step 8:  Execute Download of Options zip files\n",
    "#### Download the zip files into their appropriate folders."
   ]
  },
  {
   "cell_type": "code",
   "execution_count": null,
   "metadata": {},
   "outputs": [],
   "source": [
    "options_url_base = 'http://acs.barchart.com/mri/data/opt/opvMMMYY.zip'\n",
    "mcsv_hrefs = []\n",
    "for mmmyy in MMMYY_LIST:\n",
    "    this_url = options_url_base.replace('MMMYY',mmmyy)\n",
    "    mcsv_hrefs.append(this_url)\n",
    "mcsv_hrefs    "
   ]
  },
  {
   "cell_type": "code",
   "execution_count": null,
   "metadata": {},
   "outputs": [],
   "source": [
    "options_parent = ZIP_FOLDER_PARENT+'/options'\n",
    "if not os.path.isdir(options_parent):\n",
    "    print(f'making options folder {options_parent}')\n",
    "    os.mkdir(options_parent)\n",
    "else:\n",
    "    print(f'options folder {options_parent} already exists')\n",
    "hrefs_to_unzip = []\n",
    "paths_to_unzip_to = []\n",
    "for mcsv_href in mcsv_hrefs:\n",
    "    zip_file_name = mcsv_href.split('/')[-1]\n",
    "    folder_name = zip_file_name.replace('.zip','')\n",
    "    path_to_zip_folder = f'{options_parent}/{folder_name}'\n",
    "    if not os.path.isdir(path_to_zip_folder):\n",
    "        print(f'making {path_to_zip_folder}')\n",
    "        os.mkdir(path_to_zip_folder)\n",
    "    path_to_zip_file = f'{path_to_zip_folder}/{zip_file_name}'\n",
    "    if not os.path.isfile(path_to_zip_file):\n",
    "        hrefs_to_unzip.append(mcsv_href)\n",
    "        paths_to_unzip_to.append(path_to_zip_file)\n",
    "\n",
    "successful_downloads = []\n",
    "for i in tqdm_notebook(range(len(hrefs_to_unzip))):\n",
    "    url = hrefs_to_unzip[i]\n",
    "    path_to_zip_file = paths_to_unzip_to[i]\n",
    "    try:    \n",
    "        r=requests.get(url, auth=HTTPBasicAuth(ACS_USERNAME, ACS_PASSWORD))\n",
    "        p = paths_to_unzip_to[i]\n",
    "        with open(p, 'wb') as f:\n",
    "            f.write(r.content)\n",
    "        successful_downloads.append(path_to_zip_file)\n",
    "    except Exception as e:\n",
    "        traceback.print_exc()\n",
    "        \n",
    "\n",
    "        "
   ]
  },
  {
   "cell_type": "markdown",
   "metadata": {},
   "source": [
    "### Step 9: Execute download of Futures files.\n",
    "#### Download the zip files, each of which contain one month of daily futures selttements for all commodities tracked by Barchart."
   ]
  },
  {
   "cell_type": "code",
   "execution_count": null,
   "metadata": {},
   "outputs": [],
   "source": [
    "futures_url_base = 'http://acs.barchart.com/mri/data/mrg/mrgMMMYY.zip'\n",
    "mcsv_hrefs = []\n",
    "for mmmyy in MMMYY_LIST:\n",
    "    this_url = futures_url_base.replace('MMMYY',mmmyy)\n",
    "    mcsv_hrefs.append(this_url)\n",
    "mcsv_hrefs    "
   ]
  },
  {
   "cell_type": "code",
   "execution_count": null,
   "metadata": {},
   "outputs": [],
   "source": [
    "futures_parent = ZIP_FOLDER_PARENT+'/futures'\n",
    "if not os.path.isdir(futures_parent):\n",
    "    print(f'making futures folder {futures_parent}')\n",
    "    os.mkdir(futures_parent)\n",
    "else:\n",
    "    print(f'futures folder {futures_parent} already exists')\n"
   ]
  },
  {
   "cell_type": "code",
   "execution_count": null,
   "metadata": {},
   "outputs": [],
   "source": [
    "# sela = sc.SelScrape(headless=False)\n",
    "# sela.goto(ACS_HOME_PAGE)\n",
    "# time.sleep(1)\n",
    "# wait(sela.driver, 5).until(EC.alert_is_present())\n",
    "# alert = sela.driver.switch_to_alert()\n",
    "# alert.send_keys(f'{ACS_USERNAME}{Keys.TAB}{ACS_PASSWORD}')\n",
    "# time.sleep(3)\n",
    "# alert.accept()\n"
   ]
  },
  {
   "cell_type": "code",
   "execution_count": null,
   "metadata": {},
   "outputs": [],
   "source": [
    "# sela.goto(ACS_FUTURES_PAGE)\n",
    "# monthly_csv_files_xpath = \"//td/a[contains(@href,'data/mrg/mrg')]\"\n",
    "# mcsv_elements = sela.findxpath(monthly_csv_files_xpath)['value']\n",
    "# mcsv_hrefs_all = []\n",
    "# for mcsv in mcsv_elements:\n",
    "#     mcsv_hrefs_all.append(mcsv.get_attribute('href'))\n",
    "# all_years = np.arange(BEGIN_YY,END_YY+1)\n",
    "# mcsv_hrefs = [h for h in mcsv_hrefs_all if int(re.findall('[0-9]{1,2}',h)[0]) in all_years]    \n",
    "\n",
    "hrefs_to_unzip = []\n",
    "paths_to_unzip_to = []\n",
    "for mcsv_href in mcsv_hrefs:\n",
    "    zip_file_name = mcsv_href.split('/')[-1]\n",
    "    path_to_zip_file = f'{futures_parent}/{zip_file_name}'\n",
    "    if not os.path.isfile(path_to_zip_file):\n",
    "        hrefs_to_unzip.append(mcsv_href)\n",
    "        paths_to_unzip_to.append(path_to_zip_file)\n",
    "        \n",
    "successful_downloads = []\n",
    "for i in tqdm_notebook(range(len(mcsv_hrefs))):\n",
    "    try:    \n",
    "        url = hrefs_to_unzip[i]\n",
    "        r=requests.get(url, auth=HTTPBasicAuth(ACS_USERNAME, ACS_PASSWORD))\n",
    "        p = paths_to_unzip_to[i]\n",
    "        with open(p, 'wb') as f:\n",
    "            f.write(r.content)\n",
    "        successful_downloads.append(path_to_zip_file)\n",
    "    except Exception as e:\n",
    "        traceback.print_exc()\n",
    "    "
   ]
  },
  {
   "cell_type": "code",
   "execution_count": null,
   "metadata": {},
   "outputs": [],
   "source": [
    "successful_downloads"
   ]
  },
  {
   "cell_type": "markdown",
   "metadata": {},
   "source": [
    "## END"
   ]
  },
  {
   "cell_type": "code",
   "execution_count": null,
   "metadata": {},
   "outputs": [],
   "source": [
    "#!jupyter nbconvert step_01_download_monthly_acs_files.ipynb --to python"
   ]
  }
 ],
 "metadata": {
  "kernelspec": {
   "display_name": "Python 3",
   "language": "python",
   "name": "python3"
  },
  "language_info": {
   "codemirror_mode": {
    "name": "ipython",
    "version": 3
   },
   "file_extension": ".py",
   "mimetype": "text/x-python",
   "name": "python",
   "nbconvert_exporter": "python",
   "pygments_lexer": "ipython3",
   "version": "3.6.5"
  }
 },
 "nbformat": 4,
 "nbformat_minor": 2
}
