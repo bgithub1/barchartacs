{
 "cells": [
  {
   "cell_type": "code",
   "execution_count": null,
   "metadata": {},
   "outputs": [],
   "source": [
    "import pandas as pd\n",
    "import numpy as np\n",
    "import sys\n",
    "import os\n",
    "import datetime\n",
    "from dateutil.relativedelta import relativedelta\n",
    "import yfinance as yf\n",
    "import traceback\n",
    "import json\n",
    "import requests\n",
    "from lxml import html\n",
    "import time\n",
    "import tqdm\n",
    "import plotly_utilities as pu\n",
    "from IPython import display\n"
   ]
  },
  {
   "cell_type": "code",
   "execution_count": null,
   "metadata": {},
   "outputs": [],
   "source": [
    "def dt_to_yyyymmdd(d):\n",
    "    return int(d.year)*100*100 + int(d.month)*100 + int(d.day)\n",
    "\n",
    "def str_to_yyyymmdd(d,sep='-'):\n",
    "    try:\n",
    "        dt = datetime.datetime.strptime(str(d)[:10],f'%Y{sep}%m{sep}%d')\n",
    "    except:\n",
    "        return None\n",
    "    s = '%04d%02d%02d' %(dt.year,dt.month,dt.day)\n",
    "    return int(s)\n",
    "\n",
    "def str_to_date(d,sep='-'):\n",
    "    try:\n",
    "        dt = datetime.datetime.strptime(str(d)[:10],f'%Y{sep}%m{sep}%d')\n",
    "    except:\n",
    "        return None\n",
    "    return dt\n",
    "\n",
    "\n",
    "def fetch_history(symbol,dt_beg,dt_end):\n",
    "    df = yf.download(symbol, dt_beg, dt_end,threads=False)\n",
    "    # move index to date column, sort and recreate index\n",
    "    df['date'] = df.index\n",
    "    df = df.sort_values('date')\n",
    "    df.index = list(range(len(df)))\n",
    "    # make adj close the close\n",
    "    df = df.drop(['Adj Close'],axis=1)\n",
    "    cols = df.columns.values \n",
    "    cols_dict = {c:c[0].lower() + c[1:] for c in cols}\n",
    "    df = df.rename(columns = cols_dict)\n",
    "    df['settle_date'] = df.date.apply(str_to_yyyymmdd)\n",
    "    df['symbol'] = symbol\n",
    "    newcols = ['symbol'] + [c for c in df.columns.values if c != 'symbol']\n",
    "    return df[newcols].copy()\n",
    "\n",
    "def get_futures_list_from_yahoo():\n",
    "    url = 'https://finance.yahoo.com/commodities'\n",
    "    resp = requests.get(url)\n",
    "    df_resp = pd.read_html(resp.text)[0]\n",
    "    return df_resp\n",
    "\n",
    "def get_yahoo_history_from_list(\n",
    "    sym_list,\n",
    "    beg_dt,\n",
    "    end_dt,\n",
    "    use_tqdm=False\n",
    "):\n",
    "    '''\n",
    "    Get hisorical prices from yahoo finance for multiple symbols\n",
    "    @param sym_list: like ['AAPL','CLH22.CME','ES=F']\n",
    "    @param beg_dt:  like datetime.datetime.now() -  - relativedelta(years=1)\n",
    "    @param end_dt:  like datetime.datetime.now()\n",
    "    @use_tqdm:  show progress bar with symbols\n",
    "    '''\n",
    "    df_all = pd.DataFrame()\n",
    "    if use_tqdm:\n",
    "        _syms = tqdm.tqdm(sym_list,position=0,leave=True)\n",
    "        _iterator = tqdm.tqdm(sym_list)\n",
    "    else:\n",
    "        _syms = sym_list\n",
    "        _iterator = _syms\n",
    "    bad_syms = []\n",
    "    for sym in _iterator:\n",
    "        if use_tqdm:\n",
    "            _syms.set_postfix_str(s=sym)    \n",
    "        try:\n",
    "            df = fetch_history(sym,beg_dt, end_dt)\n",
    "            if len(df)>0:\n",
    "                df_all = df_all.append(df,ignore_index=True)\n",
    "            else:\n",
    "                bad_syms.append(sym)\n",
    "        except:\n",
    "            bad_syms.append(sym)  \n",
    "    return df_all,bad_syms"
   ]
  },
  {
   "cell_type": "code",
   "execution_count": null,
   "metadata": {},
   "outputs": [],
   "source": [
    "years_back = 20\n",
    "df_spx = yf.download('^GSPC', datetime.datetime(1972,1,1), datetime.datetime(2022,10,7),threads=False)\n",
    "df_spx['close_back'] = df_spx.shift(252*years_back).Close\n",
    "df_spx2 = df_spx[~df_spx.close_back.isna()]\n",
    "now_values = df_spx2.Close.values\n",
    "then_values = df_spx2.close_back.values\n",
    "date_fraction = 1/(years_back)\n",
    "df_spx2['perc_incr'] = [\n",
    "    (now_values[i]/then_values[i])**date_fraction-1\n",
    "    for i in range(len(now_values))\n",
    "]\n",
    "\n",
    "df_spx2['yyyymmdd'] = df_spx2.index.year*100*100 + df_spx2.index.month*100 + df_spx2.index.day\n",
    "df_spx2['rolling_mean'] = df_spx2.perc_incr.rolling(252).mean()\n",
    "\n",
    "pu.plotly_plot(\n",
    "    df_spx2[['yyyymmdd','perc_incr','rolling_mean','Close']],\n",
    "    x_column='yyyymmdd',\n",
    "    yaxis2_cols=['Close'],\n",
    "    plot_title = f' S&P 500 Percent Increase from {years_back} years back, For Each Year',\n",
    "    y_left_label=f'{years_back} year percent change in Index',\n",
    "    y_right_label='SP 500 Close'\n",
    ")\n"
   ]
  },
  {
   "cell_type": "code",
   "execution_count": null,
   "metadata": {},
   "outputs": [],
   "source": [
    "df_spx3 = df_spx2.copy()\n",
    "df_spx3['long'] = df_spx3.perc_incr > df_spx3.rolling_mean\n",
    "df_spx3['prev'] = df_spx3.long.shift(1)\n",
    "df_spx3['yyyymmdd'] = df_spx3.index.year*100*100 + df_spx3.index.month*100 + df_spx3.index.day\n",
    "df_spx3.rolling_mean = df_spx3.rolling_mean.fillna(0)"
   ]
  },
  {
   "cell_type": "code",
   "execution_count": null,
   "metadata": {},
   "outputs": [],
   "source": [
    "first_yyyymmdd = df_spx3[df_spx3.rolling_mean==0].yyyymmdd.values[-1]\n",
    "df_spx4 = df_spx3[['Close','yyyymmdd','long','prev','rolling_mean']][\n",
    "    (df_spx3.yyyymmdd>=first_yyyymmdd) & (df_spx3.long!=df_spx3.prev)\n",
    "]\n",
    "df_spx4.index = range(len(df_spx4))\n",
    "df_spx4['trade_price'] = df_spx4.Close\n",
    "df_spx4.loc[df_spx4.long,'trade_price'] = df_spx4.loc[df_spx4.long,'trade_price'] * -1\n",
    "df_spx4.trade_price = df_spx4.trade_price * -1\n",
    "# df_spx4.loc[1:len(df_spx4)-2,'trade_price'] = df_spx4.loc[1:len(df_spx4)-2,'trade_price']*2\n",
    "df_spx4['prev_trade_price'] = df_spx4.trade_price.shift(1)\n",
    "df_spx4['pl'] = df_spx4.trade_price + df_spx4.prev_trade_price\n",
    "df_spx4 = df_spx4[~df_spx4.pl.isna()]\n",
    "df_spx4['cumulative_pl'] = df_spx4.pl.cumsum()\n"
   ]
  },
  {
   "cell_type": "code",
   "execution_count": null,
   "metadata": {},
   "outputs": [],
   "source": [
    "df_spx4"
   ]
  },
  {
   "cell_type": "code",
   "execution_count": null,
   "metadata": {},
   "outputs": [],
   "source": []
  },
  {
   "cell_type": "code",
   "execution_count": null,
   "metadata": {},
   "outputs": [],
   "source": [
    "pu.plotly_plot(\n",
    "    df_spx4[['yyyymmdd','cumulative_pl','Close']],\n",
    "    x_column='yyyymmdd',\n",
    "    yaxis2_cols=['Close'],\n",
    "    plot_title = ' S&P 500 Cross Strategy',\n",
    "    y_left_label='Cummulative P&L',\n",
    "    y_right_label='SP 500 Close'\n",
    ")\n"
   ]
  },
  {
   "cell_type": "code",
   "execution_count": null,
   "metadata": {},
   "outputs": [],
   "source": [
    "def get_perc_increase(years_back,df):\n",
    "    perc_inc_col  = f'perc_incr_{years_back}'\n",
    "    df2 = df.copy()\n",
    "    df2['close_back'] = df2.shift(252*years_back).Close\n",
    "    df3 = df2[~df2.close_back.isna()].copy()\n",
    "    now_values = df3.Close.values\n",
    "    then_values = df3.close_back.values\n",
    "    date_fraction = 1/(years_back)\n",
    "    perc_inc_values = [\n",
    "        (now_values[i]/then_values[i])**date_fraction-1\n",
    "        for i in range(len(now_values))\n",
    "    ]\n",
    "    df3[perc_inc_col] = perc_inc_values\n",
    "    return df3\n"
   ]
  },
  {
   "cell_type": "code",
   "execution_count": null,
   "metadata": {},
   "outputs": [],
   "source": [
    "year_arr = [1,5,10,15,20]\n",
    "dict_df = {\n",
    "    years:get_perc_increase(years,df_spx)\n",
    "    for years in year_arr\n",
    "}"
   ]
  },
  {
   "cell_type": "code",
   "execution_count": null,
   "metadata": {},
   "outputs": [],
   "source": [
    "df_spx5 = dict_df[year_arr[0]].copy()\n",
    "for year in year_arr[1:]:\n",
    "    df_spx5 = df_spx5.join(dict_df[year][[f'perc_incr_{year}']])\n",
    "df_spx5['yyyymmdd']  = df_spx5.index.year*100*100 +  df_spx5.index.month*100 + df_spx5.index.day\n",
    "df_spx5 = df_spx5[~df_spx5.perc_incr_20.isna()].copy()\n",
    "df_spx5.index = range(len(df_spx5))"
   ]
  },
  {
   "cell_type": "code",
   "execution_count": null,
   "metadata": {},
   "outputs": [],
   "source": [
    "\n",
    "pu.plotly_plot(\n",
    "    df_spx5[\n",
    "        [\n",
    "            'yyyymmdd',\n",
    "            'perc_incr_1',\n",
    "            'perc_incr_5',\n",
    "            'perc_incr_10',\n",
    "            'perc_incr_15',\n",
    "            'perc_incr_20',\n",
    "            'Close'\n",
    "        ]\n",
    "    ],\n",
    "    x_column='yyyymmdd',\n",
    "    yaxis2_cols=['Close'],\n",
    "    plot_title = f' S&P 500 Percent Increase from {\",\".join([str(y) for y in year_arr])} years back, For Each Year',\n",
    "    y_left_label=f'year percent change in Index',\n",
    "    y_right_label='SP 500 Close'\n",
    ")"
   ]
  },
  {
   "cell_type": "code",
   "execution_count": null,
   "metadata": {},
   "outputs": [],
   "source": []
  },
  {
   "cell_type": "code",
   "execution_count": null,
   "metadata": {},
   "outputs": [],
   "source": []
  }
 ],
 "metadata": {
  "kernelspec": {
   "display_name": "Python 3",
   "language": "python",
   "name": "python3"
  },
  "language_info": {
   "codemirror_mode": {
    "name": "ipython",
    "version": 3
   },
   "file_extension": ".py",
   "mimetype": "text/x-python",
   "name": "python",
   "nbconvert_exporter": "python",
   "pygments_lexer": "ipython3",
   "version": "3.6.5"
  }
 },
 "nbformat": 4,
 "nbformat_minor": 4
}
