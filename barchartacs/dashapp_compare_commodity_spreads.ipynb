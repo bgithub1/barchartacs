{
 "cells": [
  {
   "cell_type": "code",
   "execution_count": 1,
   "metadata": {},
   "outputs": [],
   "source": [
    "import warnings\n",
    "warnings.filterwarnings(\"ignore\")"
   ]
  },
  {
   "cell_type": "markdown",
   "metadata": {},
   "source": [
    "___\n",
    "# Dashapp to show commodity spreads"
   ]
  },
  {
   "cell_type": "code",
   "execution_count": 2,
   "metadata": {},
   "outputs": [
    {
     "data": {
      "text/html": [
       "        <script type=\"text/javascript\">\n",
       "        window.PlotlyConfig = {MathJaxConfig: 'local'};\n",
       "        if (window.MathJax) {MathJax.Hub.Config({SVG: {font: \"STIX-Web\"}});}\n",
       "        if (typeof require !== 'undefined') {\n",
       "        require.undef(\"plotly\");\n",
       "        requirejs.config({\n",
       "            paths: {\n",
       "                'plotly': ['https://cdn.plot.ly/plotly-latest.min']\n",
       "            }\n",
       "        });\n",
       "        require(['plotly'], function(Plotly) {\n",
       "            window._Plotly = Plotly;\n",
       "        });\n",
       "        }\n",
       "        </script>\n",
       "        "
      ]
     },
     "metadata": {},
     "output_type": "display_data"
    }
   ],
   "source": [
    "\n",
    "import zipfile\n",
    "import glob\n",
    "import pandas as pd\n",
    "import numpy as np\n",
    "\n",
    "from argparse import ArgumentParser\n",
    "from argparse import RawDescriptionHelpFormatter\n",
    "import sys\n",
    "import os\n",
    "if  not './' in sys.path:\n",
    "    sys.path.append('./')\n",
    "if  not '../' in sys.path:\n",
    "    sys.path.append('../')\n",
    "\n",
    "from barchartacs import build_db\n",
    "from barchartacs import db_info\n",
    "import plotly.graph_objs as go\n",
    "from plotly.offline import  init_notebook_mode, iplot\n",
    "init_notebook_mode(connected=True)\n",
    "import plotly.tools as tls\n",
    "from plotly.graph_objs.layout import Font,Margin\n",
    "from IPython import display\n",
    "\n",
    "import peakutils\n",
    "from peakutils.plot import plot as pplot\n",
    "%matplotlib inline\n",
    "import matplotlib.pyplot as plt\n",
    "from scipy.signal import argrelextrema\n",
    "\n",
    "\n",
    "import datetime\n",
    "import io\n",
    "from tqdm import tqdm,tqdm_notebook\n",
    "from barchartacs import pg_pandas as pg\n",
    "import mibian\n",
    "import py_vollib\n",
    "import importlib\n",
    "from py_vollib import black\n",
    "from py_vollib.black import implied_volatility\n",
    "import ipdb\n",
    "import traceback\n",
    "import pandas_datareader.data as pdr\n",
    "from dashapp import dashapp2 as dashapp\n",
    "import dash_html_components as html\n",
    "import dash_core_components as dcc\n",
    "from itertools import accumulate \n",
    "import pathlib\n",
    "import shutil\n",
    "import urllib.request as request\n",
    "from contextlib import closing\n",
    "import zipfile\n",
    "\n"
   ]
  },
  {
   "cell_type": "code",
   "execution_count": 3,
   "metadata": {},
   "outputs": [],
   "source": [
    "from pandas.tseries.holiday import USFederalHolidayCalendar\n",
    "bday_us = pd.offsets.CustomBusinessDay(calendar=USFederalHolidayCalendar())\n"
   ]
  },
  {
   "cell_type": "markdown",
   "metadata": {},
   "source": [
    "### important global variables"
   ]
  },
  {
   "cell_type": "code",
   "execution_count": 4,
   "metadata": {},
   "outputs": [],
   "source": [
    "\n",
    "DEBUG_IT=False\n",
    "opttab = 'sec_schema.options_table'\n",
    "futtab = 'sec_schema.underlying_table'\n"
   ]
  },
  {
   "cell_type": "markdown",
   "metadata": {},
   "source": [
    "#### get all contracts in the options database"
   ]
  },
  {
   "cell_type": "code",
   "execution_count": 5,
   "metadata": {
    "scrolled": false
   },
   "outputs": [
    {
     "name": "stdout",
     "output_type": "stream",
     "text": [
      "  sec_db\n",
      "futtab max date:         max\n",
      "0  20211214\n",
      "opttab max date:         max\n",
      "0  20211214\n"
     ]
    }
   ],
   "source": [
    "postgres_config = None#'secdb_aws'\n",
    "pga = db_info.get_db_info(postgres_config)\n",
    "print(f\"futtab max date: {pga.get_sql(f'select max(settle_date) from {futtab}')}\")\n",
    "print(f\"opttab max date: {pga.get_sql(f'select max(settle_date) from {opttab}')}\")\n"
   ]
  },
  {
   "cell_type": "code",
   "execution_count": 6,
   "metadata": {},
   "outputs": [
    {
     "name": "stdout",
     "output_type": "stream",
     "text": [
      "[3, 3, 3, 2]\n"
     ]
    },
    {
     "data": {
      "text/plain": [
       "[[0, 1, 2], [3, 4, 5], [6, 7, 8], [9, 10]]"
      ]
     },
     "execution_count": 6,
     "metadata": {},
     "output_type": "execute_result"
    }
   ],
   "source": [
    "def _create_batch_indices(l,n):\n",
    "    ii = list(range(l))\n",
    "    num = n\n",
    "    # list of length in which we have to split \n",
    "    length_to_split = list(np.repeat(num,len(ii)/num )) + [len(ii)%num]\n",
    "    print(length_to_split)\n",
    "\n",
    "    # Using islice \n",
    "    r = [ii[x - y: x] for x, y in zip( \n",
    "              accumulate(length_to_split), length_to_split)] \n",
    "    return r\n",
    "_create_batch_indices(11,3)"
   ]
  },
  {
   "cell_type": "code",
   "execution_count": 7,
   "metadata": {},
   "outputs": [],
   "source": [
    "def str_to_date(d,sep='-'):\n",
    "    try:\n",
    "        dt = datetime.datetime.strptime(str(d)[:10],f'%Y{sep}%m{sep}%d')\n",
    "    except:\n",
    "        return None\n",
    "    return dt\n",
    "\n",
    "def get_local_peaks_and_valleys(df_in,n,col='close'):\n",
    "    '''\n",
    "    :param df - Input DataFrame\n",
    "    :param n - number of data points that surround peak and valley\n",
    "    :param col - the data column to observe\n",
    "    '''\n",
    "    df = df_in.copy()\n",
    "    # Find local peaks\n",
    "    df['valley'] = df.iloc[argrelextrema(df[col].values, np.less_equal, order=n)[0]][col]\n",
    "    df['peak'] = df.iloc[argrelextrema(df[col].values, np.greater_equal, order=n)[0]][col]\n",
    "    return df\n",
    " \n",
    "def get_draw_downs(df_in,close='close'):\n",
    "    df = df_in.copy()\n",
    "    df['peak'] = df[close].expanding(min_periods=1).max()\n",
    "    df['drawdown'] = df.peak-df[close]\n",
    "    return df.drawdown\n",
    "    "
   ]
  },
  {
   "cell_type": "code",
   "execution_count": 8,
   "metadata": {},
   "outputs": [],
   "source": [
    "def get_spread(contract_front,contract_back):\n",
    "    sql = f\"\"\"\n",
    "    with \n",
    "    f1 as (\n",
    "        select *\n",
    "        from {futtab} \n",
    "        where symbol in ('{contract_front}','{contract_back}')\n",
    "    )\n",
    "    select * from f1 \n",
    "    \"\"\"\n",
    "    df = pga.get_sql(sql)\n",
    "    df1 = df[df.symbol==contract_front].copy()\n",
    "    df2 = df[df.symbol==contract_back].copy()\n",
    "    df1['front'] = df1.close\n",
    "    df2['back'] = df2.close\n",
    "    df_both = df1[['settle_date','front']].merge(\n",
    "        df2[['settle_date','back']],on='settle_date',how='inner')\n",
    "    df_both['spread'] = df_both.front - df_both.back\n",
    "    return df_both\n",
    "\n",
    "MONTH_CODES = 'FGHJKMNQUVXZ'\n",
    "DICT_MONTH_CODE = {MONTH_CODES[i]:i+1 for i in range(len(MONTH_CODES))}\n",
    "\n",
    "def get_CL_expiry(symbol):\n",
    "    monthcode_yy = symbol[2:]\n",
    "    month = DICT_MONTH_CODE[monthcode_yy[0]]\n",
    "    year = 2000 + int(monthcode_yy[1:])\n",
    "    month = month -1\n",
    "    if month<1:\n",
    "        month = 12\n",
    "        year = year - 1\n",
    "    return datetime.datetime(year,month,25) - 4*bday_us\n",
    "\n",
    "def get_NG_expiry(symbol):\n",
    "    monthcode_yy = symbol[2:]\n",
    "    month = DICT_MONTH_CODE[monthcode_yy[0]]\n",
    "    year = 2000 + int(monthcode_yy[1:])\n",
    "    return datetime.datetime(year,month,1) - 3*bday_us\n"
   ]
  },
  {
   "cell_type": "code",
   "execution_count": 9,
   "metadata": {},
   "outputs": [],
   "source": [
    "def _commod_list():\n",
    "    sql = f\"\"\"select distinct substring(symbol,1,2) commod from {futtab}\n",
    "    order by substring(symbol,1,2) \"\"\"\n",
    "    df = pga.get_sql(sql)\n",
    "    return df"
   ]
  },
  {
   "cell_type": "code",
   "execution_count": 10,
   "metadata": {},
   "outputs": [
    {
     "data": {
      "text/html": [
       "<div>\n",
       "<style scoped>\n",
       "    .dataframe tbody tr th:only-of-type {\n",
       "        vertical-align: middle;\n",
       "    }\n",
       "\n",
       "    .dataframe tbody tr th {\n",
       "        vertical-align: top;\n",
       "    }\n",
       "\n",
       "    .dataframe thead th {\n",
       "        text-align: right;\n",
       "    }\n",
       "</style>\n",
       "<table border=\"1\" class=\"dataframe\">\n",
       "  <thead>\n",
       "    <tr style=\"text-align: right;\">\n",
       "      <th></th>\n",
       "      <th>commod</th>\n",
       "    </tr>\n",
       "  </thead>\n",
       "  <tbody>\n",
       "    <tr>\n",
       "      <th>0</th>\n",
       "      <td>A6</td>\n",
       "    </tr>\n",
       "    <tr>\n",
       "      <th>1</th>\n",
       "      <td>AD</td>\n",
       "    </tr>\n",
       "    <tr>\n",
       "      <th>2</th>\n",
       "      <td>AE</td>\n",
       "    </tr>\n",
       "    <tr>\n",
       "      <th>3</th>\n",
       "      <td>AP</td>\n",
       "    </tr>\n",
       "    <tr>\n",
       "      <th>4</th>\n",
       "      <td>B6</td>\n",
       "    </tr>\n",
       "    <tr>\n",
       "      <th>...</th>\n",
       "      <td>...</td>\n",
       "    </tr>\n",
       "    <tr>\n",
       "      <th>199</th>\n",
       "      <td>ZQ</td>\n",
       "    </tr>\n",
       "    <tr>\n",
       "      <th>200</th>\n",
       "      <td>ZR</td>\n",
       "    </tr>\n",
       "    <tr>\n",
       "      <th>201</th>\n",
       "      <td>ZS</td>\n",
       "    </tr>\n",
       "    <tr>\n",
       "      <th>202</th>\n",
       "      <td>ZT</td>\n",
       "    </tr>\n",
       "    <tr>\n",
       "      <th>203</th>\n",
       "      <td>ZW</td>\n",
       "    </tr>\n",
       "  </tbody>\n",
       "</table>\n",
       "<p>204 rows × 1 columns</p>\n",
       "</div>"
      ],
      "text/plain": [
       "    commod\n",
       "0       A6\n",
       "1       AD\n",
       "2       AE\n",
       "3       AP\n",
       "4       B6\n",
       "..     ...\n",
       "199     ZQ\n",
       "200     ZR\n",
       "201     ZS\n",
       "202     ZT\n",
       "203     ZW\n",
       "\n",
       "[204 rows x 1 columns]"
      ]
     },
     "execution_count": 10,
     "metadata": {},
     "output_type": "execute_result"
    }
   ],
   "source": [
    "df_commod = _commod_list()\n",
    "df_commod"
   ]
  },
  {
   "cell_type": "code",
   "execution_count": 11,
   "metadata": {},
   "outputs": [
    {
     "name": "stderr",
     "output_type": "stream",
     "text": [
      "2022-04-25 13:31:22,235 - numexpr.utils - INFO - NumExpr defaulting to 4 threads.\n"
     ]
    },
    {
     "data": {
      "text/html": [
       "<div>\n",
       "<style scoped>\n",
       "    .dataframe tbody tr th:only-of-type {\n",
       "        vertical-align: middle;\n",
       "    }\n",
       "\n",
       "    .dataframe tbody tr th {\n",
       "        vertical-align: top;\n",
       "    }\n",
       "\n",
       "    .dataframe thead th {\n",
       "        text-align: right;\n",
       "    }\n",
       "</style>\n",
       "<table border=\"1\" class=\"dataframe\">\n",
       "  <thead>\n",
       "    <tr style=\"text-align: right;\">\n",
       "      <th></th>\n",
       "      <th>commod</th>\n",
       "      <th>year</th>\n",
       "      <th>mc</th>\n",
       "      <th>sym</th>\n",
       "    </tr>\n",
       "  </thead>\n",
       "  <tbody>\n",
       "    <tr>\n",
       "      <th>0</th>\n",
       "      <td>A6</td>\n",
       "      <td>10</td>\n",
       "      <td>U</td>\n",
       "      <td>A610U</td>\n",
       "    </tr>\n",
       "    <tr>\n",
       "      <th>1</th>\n",
       "      <td>A6</td>\n",
       "      <td>10</td>\n",
       "      <td>Z</td>\n",
       "      <td>A610Z</td>\n",
       "    </tr>\n",
       "    <tr>\n",
       "      <th>2</th>\n",
       "      <td>A6</td>\n",
       "      <td>11</td>\n",
       "      <td>H</td>\n",
       "      <td>A611H</td>\n",
       "    </tr>\n",
       "    <tr>\n",
       "      <th>3</th>\n",
       "      <td>A6</td>\n",
       "      <td>11</td>\n",
       "      <td>M</td>\n",
       "      <td>A611M</td>\n",
       "    </tr>\n",
       "    <tr>\n",
       "      <th>4</th>\n",
       "      <td>A6</td>\n",
       "      <td>11</td>\n",
       "      <td>U</td>\n",
       "      <td>A611U</td>\n",
       "    </tr>\n",
       "    <tr>\n",
       "      <th>...</th>\n",
       "      <td>...</td>\n",
       "      <td>...</td>\n",
       "      <td>...</td>\n",
       "      <td>...</td>\n",
       "    </tr>\n",
       "    <tr>\n",
       "      <th>12384</th>\n",
       "      <td>ZW</td>\n",
       "      <td>22</td>\n",
       "      <td>Z</td>\n",
       "      <td>ZW22Z</td>\n",
       "    </tr>\n",
       "    <tr>\n",
       "      <th>12385</th>\n",
       "      <td>ZW</td>\n",
       "      <td>23</td>\n",
       "      <td>H</td>\n",
       "      <td>ZW23H</td>\n",
       "    </tr>\n",
       "    <tr>\n",
       "      <th>12386</th>\n",
       "      <td>ZW</td>\n",
       "      <td>23</td>\n",
       "      <td>K</td>\n",
       "      <td>ZW23K</td>\n",
       "    </tr>\n",
       "    <tr>\n",
       "      <th>12387</th>\n",
       "      <td>ZW</td>\n",
       "      <td>23</td>\n",
       "      <td>N</td>\n",
       "      <td>ZW23N</td>\n",
       "    </tr>\n",
       "    <tr>\n",
       "      <th>12388</th>\n",
       "      <td>ZW</td>\n",
       "      <td>99</td>\n",
       "      <td>Z</td>\n",
       "      <td>ZW99Z</td>\n",
       "    </tr>\n",
       "  </tbody>\n",
       "</table>\n",
       "<p>12389 rows × 4 columns</p>\n",
       "</div>"
      ],
      "text/plain": [
       "      commod  year mc    sym\n",
       "0         A6    10  U  A610U\n",
       "1         A6    10  Z  A610Z\n",
       "2         A6    11  H  A611H\n",
       "3         A6    11  M  A611M\n",
       "4         A6    11  U  A611U\n",
       "...      ...   ... ..    ...\n",
       "12384     ZW    22  Z  ZW22Z\n",
       "12385     ZW    23  H  ZW23H\n",
       "12386     ZW    23  K  ZW23K\n",
       "12387     ZW    23  N  ZW23N\n",
       "12388     ZW    99  Z  ZW99Z\n",
       "\n",
       "[12389 rows x 4 columns]"
      ]
     },
     "execution_count": 11,
     "metadata": {},
     "output_type": "execute_result"
    }
   ],
   "source": [
    "def _commod_month_list():\n",
    "    sql = f\"\"\"select distinct symbol from {futtab}\"\"\"\n",
    "    df = pga.get_sql(sql)\n",
    "    df['commod'] = df.symbol.str[0:2]\n",
    "    df['year'] = df.symbol.str[-2:].astype(int)\n",
    "    df['mc'] = df.symbol.str[-3]\n",
    "    df = df[['commod','year','mc']].sort_values(['commod','year','mc']).drop_duplicates()\n",
    "    df.index = list(range(len(df)))\n",
    "    df['sym'] = df.commod+df.year.astype(str)+df.mc\n",
    "    return df\n",
    "\n",
    "df_commod_month = _commod_month_list()\n",
    "df_commod_month"
   ]
  },
  {
   "cell_type": "code",
   "execution_count": 12,
   "metadata": {
    "scrolled": false
   },
   "outputs": [],
   "source": [
    "def _make_row_div(input_list):\n",
    "    if input_list is None or len(input_list)<1:\n",
    "        dashapp.stop_callback(f\"_make_row_div: no data in imput_list\")\n",
    "    print(f\"_make_row_div input_list: {input_list}\")\n",
    "    commod = input_list[0]\n",
    "    yr = int(input_list[1])\n",
    "    month_separation = int(input_list[2])\n",
    "    df_yr = df_commod_month.query(f\"commod=='{commod}' and year in [{yr},{yr+1}]\")\n",
    "    mcs = list(df_yr.mc.unique())\n",
    "    df_yr = df_yr.query(f\"year=={yr}\").append(df_yr.query(f\"year=={yr+1} and mc in {mcs[0:month_separation]}\"))\n",
    "    df_yr['next'] = df_yr.sym.shift(-1*month_separation)\n",
    "    df_yr = df_yr.iloc[:-1*month_separation]\n",
    "    df_yr.index = list(range(len(df_yr)))\n",
    "    def _get_fig(r):\n",
    "        front = r.sym[:2] + r.sym[-1] + r.sym[2:4]\n",
    "        back = r.next[:2] + r.next[-1] + r.next[2:4]\n",
    "        df_sp = get_spread(front,back)[['settle_date','spread']][-60:]\n",
    "        fig = dashapp.plotly_plot(\n",
    "            df_in=df_sp,x_column='settle_date',\n",
    "            plot_title=f\"{front}-{back}\",number_of_ticks_display=10)\n",
    "        return fig\n",
    "    df_yr['fig'] = df_yr.apply(_get_fig,axis=1)\n",
    "    batch_indices = _create_batch_indices(len(df_yr),2)\n",
    "    rows = []\n",
    "    for i in range(len(batch_indices)):\n",
    "        bi = batch_indices[i]\n",
    "        graphs_in_row = []\n",
    "        for j in bi:\n",
    "            graphs_in_row.append(dcc.Graph(id=f'g{j}',figure=df_yr.fig.values[j]))\n",
    "\n",
    "        row = dashapp.multi_column_panel(graphs_in_row,parent_class=dashapp.pn,div_id=f'r{i}')\n",
    "        rows.append(row)\n",
    "    return [rows]"
   ]
  },
  {
   "cell_type": "code",
   "execution_count": 13,
   "metadata": {
    "scrolled": false
   },
   "outputs": [
    {
     "name": "stderr",
     "output_type": "stream",
     "text": [
      "2022-04-25 13:31:22,338 - root - INFO - This app will run at the URL: http://127.0.0.1:8805\n"
     ]
    },
    {
     "name": "stdout",
     "output_type": "stream",
     "text": [
      "Dash is running on http://127.0.0.1:8805/\n",
      "\n"
     ]
    },
    {
     "name": "stderr",
     "output_type": "stream",
     "text": [
      "2022-04-25 13:31:22,340 - dashapp.dashapp2 - INFO - Dash is running on http://127.0.0.1:8805/\n",
      "\n"
     ]
    },
    {
     "name": "stdout",
     "output_type": "stream",
     "text": [
      " Warning: This is a development server. Do not use app.run_server\n"
     ]
    },
    {
     "name": "stderr",
     "output_type": "stream",
     "text": [
      "2022-04-25 13:31:22,341 - dashapp.dashapp2 - INFO -  Warning: This is a development server. Do not use app.run_server\n"
     ]
    },
    {
     "name": "stdout",
     "output_type": "stream",
     "text": [
      " in production, use a production WSGI server like gunicorn instead.\n",
      "\n"
     ]
    },
    {
     "name": "stderr",
     "output_type": "stream",
     "text": [
      "2022-04-25 13:31:22,343 - dashapp.dashapp2 - INFO -  in production, use a production WSGI server like gunicorn instead.\n",
      "\n"
     ]
    },
    {
     "name": "stdout",
     "output_type": "stream",
     "text": [
      " * Serving Flask app \"dashapp.dashapp2\" (lazy loading)\n",
      " * Environment: production\n",
      "   WARNING: This is a development server. Do not use it in a production deployment.\n",
      "   Use a production WSGI server instead.\n",
      " * Debug mode: off\n"
     ]
    },
    {
     "name": "stderr",
     "output_type": "stream",
     "text": [
      "2022-04-25 13:31:22,362 - werkzeug - INFO -  * Running on http://127.0.0.1:8805/ (Press CTRL+C to quit)\n",
      "2022-04-25 13:31:40,628 - werkzeug - INFO - 127.0.0.1 - - [25/Apr/2022 13:31:40] \"\u001b[37mGET / HTTP/1.1\u001b[0m\" 200 -\n",
      "2022-04-25 13:31:42,220 - werkzeug - INFO - 127.0.0.1 - - [25/Apr/2022 13:31:42] \"\u001b[37mGET / HTTP/1.1\u001b[0m\" 200 -\n",
      "2022-04-25 13:31:42,535 - werkzeug - INFO - 127.0.0.1 - - [25/Apr/2022 13:31:42] \"\u001b[37mGET /assets/custom.css?m=1583299996.0 HTTP/1.1\u001b[0m\" 200 -\n",
      "2022-04-25 13:31:42,545 - werkzeug - INFO - 127.0.0.1 - - [25/Apr/2022 13:31:42] \"\u001b[37mGET /_dash-component-suites/dash_renderer/react-dom@16.v1_6_0m1596204393.13.0.min.js HTTP/1.1\u001b[0m\" 200 -\n",
      "2022-04-25 13:31:42,561 - werkzeug - INFO - 127.0.0.1 - - [25/Apr/2022 13:31:42] \"\u001b[37mGET /assets/dashapp_example_3_rows.css?m=1585932241.0 HTTP/1.1\u001b[0m\" 200 -\n",
      "2022-04-25 13:31:42,563 - werkzeug - INFO - 127.0.0.1 - - [25/Apr/2022 13:31:42] \"\u001b[37mGET /assets/styles.css?m=1594488104.0 HTTP/1.1\u001b[0m\" 200 -\n",
      "2022-04-25 13:31:42,566 - werkzeug - INFO - 127.0.0.1 - - [25/Apr/2022 13:31:42] \"\u001b[37mGET /_dash-component-suites/dash_renderer/react@16.v1_6_0m1596204393.13.0.min.js HTTP/1.1\u001b[0m\" 200 -\n",
      "2022-04-25 13:31:42,586 - werkzeug - INFO - 127.0.0.1 - - [25/Apr/2022 13:31:42] \"\u001b[37mGET /_dash-component-suites/dash_renderer/polyfill@7.v1_6_0m1596204393.8.7.min.js HTTP/1.1\u001b[0m\" 200 -\n",
      "2022-04-25 13:31:42,878 - werkzeug - INFO - 127.0.0.1 - - [25/Apr/2022 13:31:42] \"\u001b[37mGET /_dash-component-suites/dash_renderer/prop-types@15.v1_6_0m1596204393.7.2.min.js HTTP/1.1\u001b[0m\" 200 -\n",
      "2022-04-25 13:31:42,898 - werkzeug - INFO - 127.0.0.1 - - [25/Apr/2022 13:31:42] \"\u001b[37mGET /_dash-component-suites/dash_html_components/dash_html_components.v1_0_3m1588634869.min.js HTTP/1.1\u001b[0m\" 200 -\n",
      "2022-04-25 13:31:42,942 - werkzeug - INFO - 127.0.0.1 - - [25/Apr/2022 13:31:42] \"\u001b[37mGET /_dash-component-suites/dash_core_components/dash_core_components-shared.v1_10_2m1596204393.js HTTP/1.1\u001b[0m\" 200 -\n",
      "2022-04-25 13:31:43,008 - werkzeug - INFO - 127.0.0.1 - - [25/Apr/2022 13:31:43] \"\u001b[37mGET /_dash-component-suites/dash_renderer/dash_renderer.v1_6_0m1596204393.min.js HTTP/1.1\u001b[0m\" 200 -\n",
      "2022-04-25 13:31:43,049 - werkzeug - INFO - 127.0.0.1 - - [25/Apr/2022 13:31:43] \"\u001b[37mGET /_dash-component-suites/dash_table/bundle.v4_9_0m1596204393.js HTTP/1.1\u001b[0m\" 200 -\n",
      "2022-04-25 13:31:43,051 - werkzeug - INFO - 127.0.0.1 - - [25/Apr/2022 13:31:43] \"\u001b[37mGET /_dash-component-suites/dash_core_components/dash_core_components.v1_10_2m1596204393.min.js HTTP/1.1\u001b[0m\" 200 -\n",
      "2022-04-25 13:31:43,556 - werkzeug - INFO - 127.0.0.1 - - [25/Apr/2022 13:31:43] \"\u001b[37mGET /_dash-dependencies HTTP/1.1\u001b[0m\" 200 -\n",
      "2022-04-25 13:31:43,560 - werkzeug - INFO - 127.0.0.1 - - [25/Apr/2022 13:31:43] \"\u001b[37mGET /_dash-layout HTTP/1.1\u001b[0m\" 200 -\n",
      "2022-04-25 13:31:43,879 - werkzeug - INFO - 127.0.0.1 - - [25/Apr/2022 13:31:43] \"\u001b[37mGET /_dash-component-suites/dash_core_components/async-dropdown.v1_10_2m1595872686.js HTTP/1.1\u001b[0m\" 200 -\n"
     ]
    },
    {
     "name": "stdout",
     "output_type": "stream",
     "text": [
      "_make_row_div input_list: ['CL', 20, 1]\n"
     ]
    },
    {
     "name": "stderr",
     "output_type": "stream",
     "text": [
      "2022-04-25 13:31:47,434 - werkzeug - INFO - 127.0.0.1 - - [25/Apr/2022 13:31:47] \"\u001b[37mPOST /_dash-update-component HTTP/1.1\u001b[0m\" 200 -\n"
     ]
    },
    {
     "name": "stdout",
     "output_type": "stream",
     "text": [
      "[2, 2, 2, 2, 2, 2, 0]\n"
     ]
    },
    {
     "name": "stderr",
     "output_type": "stream",
     "text": [
      "2022-04-25 13:31:47,753 - werkzeug - INFO - 127.0.0.1 - - [25/Apr/2022 13:31:47] \"\u001b[37mGET /_dash-component-suites/dash_core_components/async-graph.v1_10_2m1595872686.js HTTP/1.1\u001b[0m\" 200 -\n",
      "2022-04-25 13:31:47,867 - werkzeug - INFO - 127.0.0.1 - - [25/Apr/2022 13:31:47] \"\u001b[37mGET /_dash-component-suites/dash_core_components/async-plotlyjs.v1_10_2m1595872686.js HTTP/1.1\u001b[0m\" 200 -\n",
      "2022-04-25 13:33:08,763 - werkzeug - INFO - 127.0.0.1 - - [25/Apr/2022 13:33:08] \"\u001b[37mGET / HTTP/1.1\u001b[0m\" 200 -\n",
      "2022-04-25 13:33:08,860 - werkzeug - INFO - 127.0.0.1 - - [25/Apr/2022 13:33:08] \"\u001b[37mGET /assets/custom.css?m=1583299996.0 HTTP/1.1\u001b[0m\" 200 -\n",
      "2022-04-25 13:33:08,860 - werkzeug - INFO - 127.0.0.1 - - [25/Apr/2022 13:33:08] \"\u001b[37mGET /assets/dashapp_example_3_rows.css?m=1585932241.0 HTTP/1.1\u001b[0m\" 200 -\n",
      "2022-04-25 13:33:08,862 - werkzeug - INFO - 127.0.0.1 - - [25/Apr/2022 13:33:08] \"\u001b[37mGET /assets/styles.css?m=1594488104.0 HTTP/1.1\u001b[0m\" 200 -\n",
      "2022-04-25 13:33:08,867 - werkzeug - INFO - 127.0.0.1 - - [25/Apr/2022 13:33:08] \"\u001b[37mGET /_dash-component-suites/dash_renderer/polyfill@7.v1_6_0m1596204393.8.7.min.js HTTP/1.1\u001b[0m\" 200 -\n",
      "2022-04-25 13:33:08,900 - werkzeug - INFO - 127.0.0.1 - - [25/Apr/2022 13:33:08] \"\u001b[37mGET /_dash-component-suites/dash_table/bundle.v4_9_0m1596204393.js HTTP/1.1\u001b[0m\" 200 -\n",
      "2022-04-25 13:33:08,903 - werkzeug - INFO - 127.0.0.1 - - [25/Apr/2022 13:33:08] \"\u001b[37mGET /_dash-component-suites/dash_core_components/dash_core_components.v1_10_2m1596204393.min.js HTTP/1.1\u001b[0m\" 200 -\n",
      "2022-04-25 13:33:08,904 - werkzeug - INFO - 127.0.0.1 - - [25/Apr/2022 13:33:08] \"\u001b[37mGET /_dash-component-suites/dash_core_components/dash_core_components-shared.v1_10_2m1596204393.js HTTP/1.1\u001b[0m\" 200 -\n",
      "2022-04-25 13:33:08,906 - werkzeug - INFO - 127.0.0.1 - - [25/Apr/2022 13:33:08] \"\u001b[37mGET /_dash-component-suites/dash_html_components/dash_html_components.v1_0_3m1588634869.min.js HTTP/1.1\u001b[0m\" 200 -\n",
      "2022-04-25 13:33:08,908 - werkzeug - INFO - 127.0.0.1 - - [25/Apr/2022 13:33:08] \"\u001b[37mGET /_dash-component-suites/dash_renderer/react-dom@16.v1_6_0m1596204393.13.0.min.js HTTP/1.1\u001b[0m\" 200 -\n",
      "2022-04-25 13:33:08,911 - werkzeug - INFO - 127.0.0.1 - - [25/Apr/2022 13:33:08] \"\u001b[37mGET /_dash-component-suites/dash_renderer/react@16.v1_6_0m1596204393.13.0.min.js HTTP/1.1\u001b[0m\" 200 -\n",
      "2022-04-25 13:33:08,911 - werkzeug - INFO - 127.0.0.1 - - [25/Apr/2022 13:33:08] \"\u001b[37mGET /_dash-component-suites/dash_renderer/prop-types@15.v1_6_0m1596204393.7.2.min.js HTTP/1.1\u001b[0m\" 200 -\n",
      "2022-04-25 13:33:08,919 - werkzeug - INFO - 127.0.0.1 - - [25/Apr/2022 13:33:08] \"\u001b[37mGET /_dash-component-suites/dash_renderer/dash_renderer.v1_6_0m1596204393.min.js HTTP/1.1\u001b[0m\" 200 -\n",
      "2022-04-25 13:33:09,725 - werkzeug - INFO - 127.0.0.1 - - [25/Apr/2022 13:33:09] \"\u001b[37mGET /_dash-layout HTTP/1.1\u001b[0m\" 200 -\n",
      "2022-04-25 13:33:09,726 - werkzeug - INFO - 127.0.0.1 - - [25/Apr/2022 13:33:09] \"\u001b[37mGET /_dash-dependencies HTTP/1.1\u001b[0m\" 200 -\n",
      "2022-04-25 13:33:09,896 - werkzeug - INFO - 127.0.0.1 - - [25/Apr/2022 13:33:09] \"\u001b[37mGET /_dash-component-suites/dash_core_components/async-dropdown.v1_10_2m1595872686.js HTTP/1.1\u001b[0m\" 200 -\n",
      "2022-04-25 13:33:09,901 - werkzeug - INFO - 127.0.0.1 - - [25/Apr/2022 13:33:09] \"\u001b[37mGET /_favicon.ico?v=1.14.0 HTTP/1.1\u001b[0m\" 200 -\n"
     ]
    },
    {
     "name": "stdout",
     "output_type": "stream",
     "text": [
      "_make_row_div input_list: ['CL', 20, 1]\n"
     ]
    },
    {
     "name": "stderr",
     "output_type": "stream",
     "text": [
      "2022-04-25 13:33:12,705 - werkzeug - INFO - 127.0.0.1 - - [25/Apr/2022 13:33:12] \"\u001b[37mPOST /_dash-update-component HTTP/1.1\u001b[0m\" 200 -\n",
      "2022-04-25 13:33:12,846 - werkzeug - INFO - 127.0.0.1 - - [25/Apr/2022 13:33:12] \"\u001b[37mGET /_dash-component-suites/dash_core_components/async-graph.v1_10_2m1595872686.js HTTP/1.1\u001b[0m\" 200 -\n"
     ]
    },
    {
     "name": "stdout",
     "output_type": "stream",
     "text": [
      "[2, 2, 2, 2, 2, 2, 0]\n"
     ]
    },
    {
     "name": "stderr",
     "output_type": "stream",
     "text": [
      "2022-04-25 13:33:12,964 - werkzeug - INFO - 127.0.0.1 - - [25/Apr/2022 13:33:12] \"\u001b[37mGET /_dash-component-suites/dash_core_components/async-plotlyjs.v1_10_2m1595872686.js HTTP/1.1\u001b[0m\" 200 -\n"
     ]
    },
    {
     "name": "stdout",
     "output_type": "stream",
     "text": [
      "_make_row_div input_list: ['ES', 20, 1]\n"
     ]
    },
    {
     "name": "stderr",
     "output_type": "stream",
     "text": [
      "2022-04-25 13:33:22,276 - werkzeug - INFO - 127.0.0.1 - - [25/Apr/2022 13:33:22] \"\u001b[37mPOST /_dash-update-component HTTP/1.1\u001b[0m\" 200 -\n"
     ]
    },
    {
     "name": "stdout",
     "output_type": "stream",
     "text": [
      "[2, 2, 0]\n",
      "_make_row_div input_list: ['HO', 20, 1]\n"
     ]
    },
    {
     "name": "stderr",
     "output_type": "stream",
     "text": [
      "2022-04-25 13:33:34,814 - werkzeug - INFO - 127.0.0.1 - - [25/Apr/2022 13:33:34] \"\u001b[37mPOST /_dash-update-component HTTP/1.1\u001b[0m\" 200 -\n"
     ]
    },
    {
     "name": "stdout",
     "output_type": "stream",
     "text": [
      "[2, 2, 2, 2, 2, 2, 0]\n",
      "_make_row_div input_list: ['HO', 20, 3]\n"
     ]
    },
    {
     "name": "stderr",
     "output_type": "stream",
     "text": [
      "2022-04-25 13:34:00,158 - werkzeug - INFO - 127.0.0.1 - - [25/Apr/2022 13:34:00] \"\u001b[37mPOST /_dash-update-component HTTP/1.1\u001b[0m\" 200 -\n"
     ]
    },
    {
     "name": "stdout",
     "output_type": "stream",
     "text": [
      "[2, 2, 2, 2, 2, 2, 0]\n"
     ]
    },
    {
     "name": "stderr",
     "output_type": "stream",
     "text": [
      "2022-04-25 13:34:54,063 - werkzeug - INFO - 127.0.0.1 - - [25/Apr/2022 13:34:54] \"\u001b[37mGET / HTTP/1.1\u001b[0m\" 200 -\n",
      "2022-04-25 13:34:57,901 - werkzeug - INFO - 127.0.0.1 - - [25/Apr/2022 13:34:57] \"\u001b[37mGET / HTTP/1.1\u001b[0m\" 200 -\n",
      "2022-04-25 13:34:58,316 - werkzeug - INFO - 127.0.0.1 - - [25/Apr/2022 13:34:58] \"\u001b[37mGET /assets/dashapp_example_3_rows.css?m=1585932241.0 HTTP/1.1\u001b[0m\" 200 -\n",
      "2022-04-25 13:34:58,330 - werkzeug - INFO - 127.0.0.1 - - [25/Apr/2022 13:34:58] \"\u001b[37mGET /_dash-component-suites/dash_renderer/react-dom@16.v1_6_0m1596204393.13.0.min.js HTTP/1.1\u001b[0m\" 200 -\n",
      "2022-04-25 13:34:58,355 - werkzeug - INFO - 127.0.0.1 - - [25/Apr/2022 13:34:58] \"\u001b[37mGET /_dash-component-suites/dash_renderer/react@16.v1_6_0m1596204393.13.0.min.js HTTP/1.1\u001b[0m\" 200 -\n",
      "2022-04-25 13:34:58,356 - werkzeug - INFO - 127.0.0.1 - - [25/Apr/2022 13:34:58] \"\u001b[37mGET /assets/styles.css?m=1594488104.0 HTTP/1.1\u001b[0m\" 200 -\n",
      "2022-04-25 13:34:58,362 - werkzeug - INFO - 127.0.0.1 - - [25/Apr/2022 13:34:58] \"\u001b[37mGET /_dash-component-suites/dash_renderer/polyfill@7.v1_6_0m1596204393.8.7.min.js HTTP/1.1\u001b[0m\" 200 -\n",
      "2022-04-25 13:34:58,551 - werkzeug - INFO - 127.0.0.1 - - [25/Apr/2022 13:34:58] \"\u001b[37mGET /assets/custom.css?m=1583299996.0 HTTP/1.1\u001b[0m\" 200 -\n",
      "2022-04-25 13:34:58,688 - werkzeug - INFO - 127.0.0.1 - - [25/Apr/2022 13:34:58] \"\u001b[37mGET /_dash-component-suites/dash_renderer/prop-types@15.v1_6_0m1596204393.7.2.min.js HTTP/1.1\u001b[0m\" 200 -\n",
      "2022-04-25 13:34:58,816 - werkzeug - INFO - 127.0.0.1 - - [25/Apr/2022 13:34:58] \"\u001b[37mGET /_dash-component-suites/dash_core_components/dash_core_components-shared.v1_10_2m1596204393.js HTTP/1.1\u001b[0m\" 200 -\n",
      "2022-04-25 13:34:58,822 - werkzeug - INFO - 127.0.0.1 - - [25/Apr/2022 13:34:58] \"\u001b[37mGET /_dash-component-suites/dash_table/bundle.v4_9_0m1596204393.js HTTP/1.1\u001b[0m\" 200 -\n",
      "2022-04-25 13:34:58,873 - werkzeug - INFO - 127.0.0.1 - - [25/Apr/2022 13:34:58] \"\u001b[37mGET /_dash-component-suites/dash_renderer/dash_renderer.v1_6_0m1596204393.min.js HTTP/1.1\u001b[0m\" 200 -\n",
      "2022-04-25 13:34:58,890 - werkzeug - INFO - 127.0.0.1 - - [25/Apr/2022 13:34:58] \"\u001b[37mGET /_dash-component-suites/dash_core_components/dash_core_components.v1_10_2m1596204393.min.js HTTP/1.1\u001b[0m\" 200 -\n",
      "2022-04-25 13:34:58,898 - werkzeug - INFO - 127.0.0.1 - - [25/Apr/2022 13:34:58] \"\u001b[37mGET /_dash-component-suites/dash_html_components/dash_html_components.v1_0_3m1588634869.min.js HTTP/1.1\u001b[0m\" 200 -\n",
      "2022-04-25 13:34:59,638 - werkzeug - INFO - 127.0.0.1 - - [25/Apr/2022 13:34:59] \"\u001b[37mGET /_dash-dependencies HTTP/1.1\u001b[0m\" 200 -\n",
      "2022-04-25 13:35:01,175 - werkzeug - INFO - 127.0.0.1 - - [25/Apr/2022 13:35:01] \"\u001b[37mGET /_dash-layout HTTP/1.1\u001b[0m\" 200 -\n",
      "2022-04-25 13:35:02,141 - werkzeug - INFO - 127.0.0.1 - - [25/Apr/2022 13:35:02] \"\u001b[37mGET /_dash-component-suites/dash_core_components/async-dropdown.v1_10_2m1595872686.js HTTP/1.1\u001b[0m\" 200 -\n"
     ]
    },
    {
     "name": "stdout",
     "output_type": "stream",
     "text": [
      "_make_row_div input_list: ['CL', 20, 1]\n"
     ]
    },
    {
     "name": "stderr",
     "output_type": "stream",
     "text": [
      "2022-04-25 13:35:04,820 - werkzeug - INFO - 127.0.0.1 - - [25/Apr/2022 13:35:04] \"\u001b[37mPOST /_dash-update-component HTTP/1.1\u001b[0m\" 200 -\n"
     ]
    },
    {
     "name": "stdout",
     "output_type": "stream",
     "text": [
      "[2, 2, 2, 2, 2, 2, 0]\n"
     ]
    },
    {
     "name": "stderr",
     "output_type": "stream",
     "text": [
      "2022-04-25 13:35:05,270 - werkzeug - INFO - 127.0.0.1 - - [25/Apr/2022 13:35:05] \"\u001b[37mGET /_dash-component-suites/dash_core_components/async-graph.v1_10_2m1595872686.js HTTP/1.1\u001b[0m\" 200 -\n",
      "2022-04-25 13:35:30,494 - werkzeug - INFO - 127.0.0.1 - - [25/Apr/2022 13:35:30] \"\u001b[37mGET /_dash-component-suites/dash_core_components/async-plotlyjs.v1_10_2m1595872686.js HTTP/1.1\u001b[0m\" 200 -\n"
     ]
    },
    {
     "data": {
      "text/plain": [
       "<dash.dash.Dash at 0x13450b3c8>"
      ]
     },
     "execution_count": 13,
     "metadata": {},
     "output_type": "execute_result"
    }
   ],
   "source": [
    "app_title = \"\"\"\n",
    "Compare Commodity Calendar Spreads during One Year\n",
    "\"\"\"\n",
    "page_title = dashapp.make_page_title(app_title,div_id='r1',html_container=html.H3)                  \n",
    "clist = ['CL','HO','RB','NG','ES','ZW','ZS','ZC','ZL','GC','SI','HG']\n",
    "dfc2 = df_commod.query(f\"commod in {clist}\")\n",
    "commod_drop = dashapp.make_dropdown(\n",
    "    dfc2,'commod_drop','commod',current_value='CL') \n",
    "contract_distance_input = dcc.Input(\n",
    "    id='contract_distance_input',type='number',value=1,debounce=True)\n",
    "df_year_drop = pd.DataFrame({'year':list(np.arange(11,21))})\n",
    "year_drop = dashapp.make_dropdown(\n",
    "    df_year_drop,'year_drop','year',label_column='year',current_value=20)\n",
    "year_drop_panel = dashapp.multi_column_panel(\n",
    "        [\n",
    "            html.Div(['select commodity']),\n",
    "             commod_drop,\n",
    "             html.Div([' ']),\n",
    "             html.Div(['select year']),\n",
    "             year_drop,\n",
    "             html.Div([' ']),\n",
    "             html.Div(['contract distance']),\n",
    "             contract_distance_input        \n",
    "        ],\n",
    "        grid_template=['10fr 20fr 3fr 10fr 20fr 3fr 10fr 20fr']\n",
    ")\n",
    "\n",
    "rows_div = dcc.Loading([],id=\"rows_div\",fullscreen=True)\n",
    "rows_link = dashapp.DashLink(\n",
    "    [(commod_drop,'value'),(year_drop,'value'),(contract_distance_input,'value')],[(rows_div,'children')],\n",
    "    io_callback = _make_row_div\n",
    ")     \n",
    "\n",
    "main_div = html.Div([page_title,year_drop_panel,rows_div])\n",
    "\n",
    "dap = dashapp.DashApp()\n",
    "dap.add_links([rows_link])\n",
    "dap.create_app(main_div,app_title='spread graphs',app_port=8805)\n",
    "\n",
    "    \n"
   ]
  },
  {
   "cell_type": "code",
   "execution_count": null,
   "metadata": {},
   "outputs": [],
   "source": []
  }
 ],
 "metadata": {
  "kernelspec": {
   "display_name": "Python 3",
   "language": "python",
   "name": "python3"
  },
  "language_info": {
   "codemirror_mode": {
    "name": "ipython",
    "version": 3
   },
   "file_extension": ".py",
   "mimetype": "text/x-python",
   "name": "python",
   "nbconvert_exporter": "python",
   "pygments_lexer": "ipython3",
   "version": "3.6.5"
  }
 },
 "nbformat": 4,
 "nbformat_minor": 2
}
